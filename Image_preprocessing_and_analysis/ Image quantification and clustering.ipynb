{
 "cells": [
  {
   "cell_type": "markdown",
   "metadata": {},
   "source": [
    "# 1. 이미지 전처리\n",
    "> 정면 얼굴 찾기"
   ]
  },
  {
   "cell_type": "code",
   "execution_count": null,
   "metadata": {
    "scrolled": false
   },
   "outputs": [],
   "source": [
    "# vision api로 정면 얼굴 찾기\n",
    "from googleapiclient import  discovery\n",
    "from oauth2client.client  import GoogleCredentials\n",
    "import sys\n",
    "import io\n",
    "import base64\n",
    "from PIL import Image\n",
    "from PIL import ImageDraw\n",
    "from genericpath import isfile\n",
    "import os\n",
    "import hashlib\n",
    "from oauth2client.service_account import ServiceAccountCredentials\n",
    "\n",
    "\n",
    "NUM_THREADS = 70000\n",
    "MAX_FACE = 2\n",
    "MAX_LABEL = 2\n",
    "IMAGE_SIZE = 156,156\n",
    "MAX_ROLL = 15\n",
    "MAX_TILT = 15\n",
    "MAX_PAN = 15\n",
    "\n",
    "# index to transfrom image string label to number\n",
    "global_label_index = 0 \n",
    "global_label_number = [0 for x in range(13)]\n",
    "global_image_hash = []\n",
    "\n",
    "class FaceDetector():\n",
    "    def __init__(self):\n",
    "        # initialize library\n",
    "        #credentials = GoogleCredentials.get_application_default()\n",
    "        scopes = ['https://www.googleapis.com/auth/cloud-platform']\n",
    "        credentials = ServiceAccountCredentials.from_json_keyfile_name(\n",
    "                        './still-sensor-325313-e544dd4f101f.json', scopes=scopes)\n",
    "        self.service = discovery.build('vision', 'v1', credentials=credentials)\n",
    "        #print (\"Getting vision API client : %s\" ,self.service)\n",
    "\n",
    "    #def extract_face(selfself,image_file,output_file):\n",
    "    def skew_angle(self):\n",
    "        return None\n",
    "    \n",
    "    def detect_face(self,image_file):\n",
    "        try:\n",
    "            with io.open(image_file,'rb') as fd:\n",
    "                image = fd.read()\n",
    "                batch_request = [{\n",
    "                        'image':{\n",
    "                            'content':base64.b64encode(image).decode('utf-8')\n",
    "                            },\n",
    "                        'features':[\n",
    "                            {\n",
    "                            'type':'FACE_DETECTION',\n",
    "                            'maxResults':MAX_FACE,\n",
    "                            },\n",
    "                            {\n",
    "                            'type':'LABEL_DETECTION',\n",
    "                            'maxResults':MAX_LABEL,\n",
    "                            }\n",
    "                                    ]\n",
    "                        }]\n",
    "                fd.close()\n",
    "        \n",
    "            request = self.service.images().annotate(body={\n",
    "                            'requests':batch_request, })\n",
    "            response = request.execute()\n",
    "            if 'faceAnnotations' not in response['responses'][0]:\n",
    "                print('[Error] %s: Cannot find face ' % image_file)\n",
    "                return None\n",
    "                \n",
    "            face = response['responses'][0]['faceAnnotations']\n",
    "            label = response['responses'][0]['labelAnnotations']\n",
    "            \n",
    "            if len(face) > 1 :\n",
    "                print('[Error] %s: It has more than 2 faces in a file' % image_file)\n",
    "                return None\n",
    "            \n",
    "            roll_angle = face[0]['rollAngle']\n",
    "            pan_angle = face[0]['panAngle']\n",
    "            tilt_angle = face[0]['tiltAngle']\n",
    "            angle = [roll_angle,pan_angle,tilt_angle]\n",
    "            \n",
    "            # check angle\n",
    "            # if face skew angle is greater than > 20, it will skip the data\n",
    "            if abs(roll_angle) > MAX_ROLL or abs(pan_angle) > MAX_PAN or abs(tilt_angle) > MAX_TILT:\n",
    "                print('[Error] %s: face skew angle is big' % image_file)\n",
    "                return None\n",
    "            \n",
    "            # check sunglasses\n",
    "            for l in label:\n",
    "                if 'sunglasses' in l['description']:\n",
    "                    print('[Error] %s: sunglass is detected' % image_file)  \n",
    "                    return None\n",
    "            \n",
    "            box = face[0]['fdBoundingPoly']['vertices']\n",
    "            left = box[0]['x']\n",
    "            top = box[1]['y']\n",
    "                \n",
    "            right = box[2]['x']\n",
    "            bottom = box[2]['y']\n",
    "                \n",
    "            rect = [left,top,right,bottom]\n",
    "                \n",
    "            print(\"[Info] %s: Find face from in position %s and skew angle %s\" % (image_file,rect,angle))\n",
    "            return rect\n",
    "        except Exception as e:\n",
    "            print('[Error] %s: cannot process file : %s' %(image_file,str(e)) )\n",
    "            \n",
    "    def rect_face(self,image_file,rect,outputfile):\n",
    "        try:\n",
    "            fd = io.open(image_file,'rb')\n",
    "            image = Image.open(fd)\n",
    "            draw = ImageDraw.Draw(image)\n",
    "            draw.rectangle(rect,fill=None,outline=\"green\")\n",
    "            image.save(outputfile)\n",
    "            fd.close()\n",
    "            print('[Info] %s: Mark face with Rect %s and write it to file : %s' %(image_file,rect,outputfile) )\n",
    "        except Exception as e:\n",
    "            print('[Error] %s: Rect image writing error : %s' %(image_file,str(e)) )\n",
    "        \n",
    "    def crop_face(self,image_file,rect,outputfile):\n",
    "        \n",
    "        global global_image_hash\n",
    "        try:\n",
    "            fd = io.open(image_file,'rb')\n",
    "            image = Image.open(fd)  \n",
    "\n",
    "            # extract hash from image to check duplicated image\n",
    "            m = hashlib.md5()\n",
    "            with io.BytesIO() as memf:\n",
    "                image.save(memf, 'PNG')\n",
    "                data = memf.getvalue()\n",
    "                m.update(data)\n",
    "            image_hash = m.hexdigest()\n",
    "            \n",
    "            if image_hash in global_image_hash:\n",
    "                print('[Error] %s: Duplicated image' %(image_file) )\n",
    "                return None\n",
    "            global_image_hash.append(image_hash)\n",
    "\n",
    "            crop = image.crop(rect)\n",
    "            im = crop.resize(IMAGE_SIZE,Image.ANTIALIAS)\n",
    "            \n",
    "            \n",
    "            im.save(outputfile,\"JPEG\")\n",
    "            fd.close()\n",
    "            print('[Info]  %s: Crop face %s and write it to file : %s' %( image_file,rect,outputfile) )\n",
    "            return True\n",
    "        except Exception as e:\n",
    "            print('[Error] %s: Crop image writing error : %s' %(image_file,str(e)) )\n",
    "        \n",
    "    def getfiles(self,src_dir):\n",
    "        files = []\n",
    "        for f in os.listdir(src_dir):\n",
    "            if isfile(os.path.join(src_dir,f)):\n",
    "                if not f.startswith('.'):\n",
    "                    files.append(os.path.join(src_dir,f))\n",
    "\n",
    "        return files\n",
    "    \n",
    "    # read files in src_dir and generate image that rectangle in face and write into files in des_dir\n",
    "    def rect_faces_dir(self,src_dir,des_dir):\n",
    "        if not os.path.exists(des_dir):\n",
    "            os.makedirs(des_dir)\n",
    "            \n",
    "        files = self.getfiles(src_dir)\n",
    "        for f in files:\n",
    "            des_file = os.path.join(des_dir,os.path.basename(f))\n",
    "            rect = self.detect_face(f)\n",
    "            if rect != None:\n",
    "                self.rect_face(f, rect, des_file)\n",
    "    \n",
    "    # read files in src_dir and crop face only and write it into des_dir\n",
    "    def crop_faces_dir(self,src_dir,des_dir,maxnum):\n",
    "        \n",
    "        # training data will be written in $des_dir/training\n",
    "        # validation data will be written in $des_dir/validate\n",
    "        \n",
    "        des_dir_training = os.path.join(des_dir,'training')\n",
    "        des_dir_validate = os.path.join(des_dir,'validate')\n",
    "        \n",
    "        if not os.path.exists(des_dir):\n",
    "            os.makedirs(des_dir)\n",
    "        if not os.path.exists(des_dir_training):\n",
    "            os.makedirs(des_dir_training)\n",
    "        if not os.path.exists(des_dir_validate):\n",
    "            os.makedirs(des_dir_validate)\n",
    "        \n",
    "        path,folder_name = os.path.split(src_dir)\n",
    "        label = folder_name\n",
    "        \n",
    "        # create label file. it will contains file location \n",
    "        # and label for each file\n",
    "        training_file = open(des_dir+'/training_file.txt','a')\n",
    "        validate_file = open(des_dir+'/validate_file.txt','a')\n",
    "        \n",
    "        files = self.getfiles(src_dir)\n",
    "        global global_label_index\n",
    "        cnt = 0 \n",
    "        num = 0 # number of training data\n",
    "        for f in files:\n",
    "            rect = self.detect_face(f)\n",
    "\n",
    "            # replace ',' in file name to '.'\n",
    "            # because ',' is used for deliminator of image file name and its label\n",
    "            des_file_name = os.path.basename(f)\n",
    "            des_file_name = des_file_name.replace(',','_')\n",
    "            \n",
    "            if rect != None:\n",
    "                # 70% of file will be stored in training data directory\n",
    "                if(cnt < 8):\n",
    "                    des_file = os.path.join(des_dir_training,des_file_name)\n",
    "                    # if we already have duplicated image, crop_face will return None\n",
    "                    if self.crop_face(f, rect, des_file ) != None:\n",
    "                        training_file.write(\"%s,%s,%d\\n\"%(des_file,label,global_label_index) )\n",
    "                        num = num + 1\n",
    "                        global_label_number[global_label_index] = num\n",
    "                        cnt = cnt+1\n",
    "\n",
    "                    if (num>=maxnum):\n",
    "                        break\n",
    "                # 30% of files will be stored in validation data directory\n",
    "                else: # for validation data\n",
    "                    des_file = os.path.join(des_dir_validate,des_file_name)\n",
    "                    if self.crop_face(f, rect, des_file) != None:\n",
    "                        validate_file.write(\"%s,%s,%d\\n\"%(des_file,label,global_label_index) )\n",
    "                        cnt = cnt+1\n",
    "                    \n",
    "                if(cnt>9): \n",
    "                    cnt = 0\n",
    "        #increase index for image label\n",
    "        \n",
    "        global_label_index = global_label_index + 1 \n",
    "        print('## label %s has %s of training data' %(global_label_index,num))\n",
    "        training_file.close()\n",
    "        validate_file.close()\n",
    "        \n",
    "    def getdirs(self,dir):\n",
    "        dirs = []\n",
    "        for f in os.listdir(dir):\n",
    "            f=os.path.join(dir,f)\n",
    "            if os.path.isdir(f):\n",
    "                if not f.startswith('.'):\n",
    "                    dirs.append(f)\n",
    "\n",
    "        return dirs\n",
    "        \n",
    "    def crop_faces_rootdir(self,src_dir,des_dir,maxnum):\n",
    "        # crop file from sub-directoris in src_dir\n",
    "        dirs = self.getdirs(src_dir)\n",
    "        \n",
    "        #list sub directory\n",
    "        for d in dirs:\n",
    "            print('[INFO] : ### Starting cropping in directory %s ###'%d)\n",
    "            self.crop_faces_dir(d, des_dir,maxnum)\n",
    "        #loop and run face crop\n",
    "        global global_label_number\n",
    "        print(\"number of datas per label \", global_label_number)\n",
    "        \n",
    "def main(argv):\n",
    "#   원본 이미지 저장장소\n",
    "    srcdir= 'C:\\\\Users\\\\성수현\\\\face_image_align\\\\원본\\\\'\n",
    "#   수정 이미지 저장장소 \n",
    "    desdir = 'C:\\\\Users\\\\성수현\\\\face_image_align\\\\수정본\\\\'\n",
    "#   이미지에서 정면 얼굴 찾는 횟수\n",
    "    maxnum = int(36000)\n",
    "\n",
    "    detector = FaceDetector()\n",
    "\n",
    "    detector.crop_faces_rootdir(srcdir, desdir,maxnum)\n",
    "    \n",
    "if __name__ == \"__main__\":\n",
    "    main(sys.argv)"
   ]
  },
  {
   "cell_type": "markdown",
   "metadata": {},
   "source": [
    "# 2. 이미지 수치화"
   ]
  },
  {
   "cell_type": "markdown",
   "metadata": {},
   "source": [
    "# 2.1 훈련데이터 수치화"
   ]
  },
  {
   "cell_type": "code",
   "execution_count": 5,
   "metadata": {},
   "outputs": [],
   "source": [
    "import face_recognition as fr\n",
    "from PIL import Image\n",
    "import glob\n",
    "import os\n",
    "import numpy as np\n",
    "import pandas as pd"
   ]
  },
  {
   "cell_type": "code",
   "execution_count": 171,
   "metadata": {},
   "outputs": [],
   "source": [
    "# 남자 학습 데이터 불러오기\n",
    "train_image_files = glob.glob('C:\\\\Users\\\\성수현\\\\face_image_align\\\\수정본\\\\training\\\\train_man\\\\'+'*.*')"
   ]
  },
  {
   "cell_type": "code",
   "execution_count": 8,
   "metadata": {},
   "outputs": [],
   "source": [
    "# 학습 이미지 데이터 -> 벡터 데이터(수치화)\n",
    "image = []\n",
    "encodings = []\n",
    "for file in image_files:\n",
    "    encodings.append(fr.face_encodings(fr.load_image_file(file)))"
   ]
  },
  {
   "cell_type": "code",
   "execution_count": 172,
   "metadata": {},
   "outputs": [],
   "source": [
    "train_filelist = os.listdir('C:\\\\Users\\\\성수현\\\\face_image_align\\\\수정본\\\\training\\\\train_man\\\\')"
   ]
  },
  {
   "cell_type": "code",
   "execution_count": 162,
   "metadata": {},
   "outputs": [
    {
     "name": "stdout",
     "output_type": "stream",
     "text": [
      "6313 6313 6313\n"
     ]
    }
   ],
   "source": [
    "# 뽑아낸 이미지 데이터와 데이터 경로의 개수가 일치하는지 확인\n",
    "print(len(encodings),len(train_image_files),len(train_filelist))"
   ]
  },
  {
   "cell_type": "code",
   "execution_count": 120,
   "metadata": {
    "scrolled": true
   },
   "outputs": [],
   "source": [
    "# encoding 과정이 너무 오래걸리므로 dataframe 형식으로 저장하여 불러오기\n",
    "pd.DataFrame(encodings,index=train_filelist).to_csv('./수정본/training/man_train_encodings.txt')"
   ]
  },
  {
   "cell_type": "code",
   "execution_count": 173,
   "metadata": {},
   "outputs": [],
   "source": [
    "# 뽑아낸 이미지 데이터와 데이터 경로의 개수 일치 시키기(간혹 이미지 데이터 벡터화에 실패하는 이미지 존재 -> 빈 리스트가 존재)\n",
    "cnt = 0\n",
    "for idx,val in enumerate(encodings):\n",
    "    if not val:\n",
    "        train_filelist.pop(idx-cnt)\n",
    "        train_image_files.pop(idx-cnt)\n",
    "        cnt += 1"
   ]
  },
  {
   "cell_type": "code",
   "execution_count": 174,
   "metadata": {},
   "outputs": [],
   "source": [
    "# 2차원 리스트 -> 1차원 리스트(KMeans에서 입력이 1차원이어야 하므로) + 빈 리스트 제거\n",
    "t = []\n",
    "t = encodings.copy()\n",
    "man_train_encodings = sum(t,[])"
   ]
  },
  {
   "cell_type": "code",
   "execution_count": 176,
   "metadata": {},
   "outputs": [
    {
     "name": "stdout",
     "output_type": "stream",
     "text": [
      "6039 6039 6039\n"
     ]
    }
   ],
   "source": [
    "# 뽑아낸 이미지 데이터와 데이터 경로의 개수가 일치하는지 확인\n",
    "print(len(man_train_encodings),len(train_image_files),len(train_filelist))"
   ]
  },
  {
   "cell_type": "markdown",
   "metadata": {},
   "source": [
    "# 2.2 KMeans"
   ]
  },
  {
   "cell_type": "code",
   "execution_count": 63,
   "metadata": {},
   "outputs": [],
   "source": [
    "from sklearn.cluster import KMeans"
   ]
  },
  {
   "cell_type": "code",
   "execution_count": 64,
   "metadata": {},
   "outputs": [
    {
     "data": {
      "text/plain": [
       "KMeans(algorithm='auto', copy_x=True, init='k-means++', max_iter=300,\n",
       "    n_clusters=13, n_init=10, n_jobs=None, precompute_distances='auto',\n",
       "    random_state=None, tol=0.0001, verbose=0)"
      ]
     },
     "execution_count": 64,
     "metadata": {},
     "output_type": "execute_result"
    }
   ],
   "source": [
    "# train set으로 KMeans 학습\n",
    "clf = KMeans(n_clusters = 13)\n",
    "clf.fit(man_train_encodings)"
   ]
  },
  {
   "cell_type": "code",
   "execution_count": 65,
   "metadata": {},
   "outputs": [
    {
     "data": {
      "text/plain": [
       "array([ 0,  1,  2,  3,  4,  5,  6,  7,  8,  9, 10, 11, 12])"
      ]
     },
     "execution_count": 65,
     "metadata": {},
     "output_type": "execute_result"
    }
   ],
   "source": [
    "# 13개의 class로 나뉘었는지 확인\n",
    "np.unique(clf.labels_)"
   ]
  },
  {
   "cell_type": "markdown",
   "metadata": {},
   "source": [
    "# 2.3 테스트 데이터 수치화"
   ]
  },
  {
   "cell_type": "code",
   "execution_count": 155,
   "metadata": {},
   "outputs": [],
   "source": [
    "val_image_path = glob.glob('C:\\\\Users\\\\성수현\\\\face_image_align\\\\수정본\\\\validate\\\\val_man\\\\'+'*.*')"
   ]
  },
  {
   "cell_type": "code",
   "execution_count": 24,
   "metadata": {},
   "outputs": [],
   "source": [
    "val_image = []\n",
    "val_man_encodings = []\n",
    "for val_man_file in val_image_path:\n",
    "    val_man_encodings.append(fr.face_encodings(fr.load_image_file(val_man_file)))"
   ]
  },
  {
   "cell_type": "code",
   "execution_count": 156,
   "metadata": {},
   "outputs": [],
   "source": [
    "val_filelist = os.listdir('C:\\\\Users\\\\성수현\\\\face_image_align\\\\수정본\\\\validate\\\\val_man\\\\')"
   ]
  },
  {
   "cell_type": "code",
   "execution_count": 131,
   "metadata": {},
   "outputs": [],
   "source": [
    "# encoding 과정이 너무 오래걸리므로 dataframe 형식으로 저장하여 불러오기\n",
    "pd.DataFrame(val_man_encodings,index=val_filelist).to_csv('./수정본/validate/man_val_encodings.txt')"
   ]
  },
  {
   "cell_type": "code",
   "execution_count": 157,
   "metadata": {
    "collapsed": true
   },
   "outputs": [
    {
     "name": "stdout",
     "output_type": "stream",
     "text": [
      "2PM 장우영27.jpg\n",
      "FT아일랜드 최민환31.jpg\n",
      "HOT 강타46.jpg\n",
      "NCT 제노42.jpg\n",
      "NCT 태용44.jpg\n",
      "NCT 해찬1.jpg\n",
      "SF9 로운24.jpg\n",
      "SF9 로운24.jpg\n",
      "가수 비47.jpg\n",
      "가수 세븐14.jpg\n",
      "가수 신승훈12.jpg\n",
      "가수 에릭남43.jpg\n",
      "가수 영웅재중48.jpg\n",
      "가수 은지원44.jpg\n",
      "가수 이재훈33.jpg\n",
      "가수 이재훈33.jpg\n",
      "가수 정세운3.jpg\n",
      "가수 존박35.jpg\n",
      "가수 테이43.jpg\n",
      "개그맨 김태현38.jpg\n",
      "개그맨 오지환11.jpg\n",
      "개그맨 이정규39.jpg\n",
      "개그맨 정종철31.jpg\n",
      "국회의원 김상훈43.jpg\n",
      "꽃보다남자 구준표21.jpg\n",
      "네이버 창업주 이해진_v36.jpg\n",
      "네이버이사회의장 이해진35.jpg\n",
      "노홍철42.jpg\n",
      "농구선수 허훈48.jpg\n",
      "더보이즈 주학년24.jpg\n",
      "래퍼 넉살27.jpg\n",
      "래퍼 로꼬16.jpg\n",
      "래퍼 원슈타인16.jpg\n",
      "래퍼 한해2.jpg\n",
      "래퍼 행주9.jpg\n",
      "모델 주우재14.jpg\n",
      "모델 주우재14.jpg\n",
      "몬스타엑스 민혁17.jpg\n",
      "몬스타엑스 민혁17.jpg\n",
      "몬스타엑스 형원12.jpg\n",
      "방탄소년단 슈가44.jpg\n",
      "방탄소년단 제이홉37.jpg\n",
      "방탄소년단 지민10.jpg\n",
      "배구선수 조재성1.jpg\n",
      "배우 공명23.jpg\n",
      "배우 김래원29.jpg\n",
      "배우 김병세21.jpg\n",
      "배우 김사권9.jpg\n",
      "배우 김승수45.jpg\n",
      "배우 박광현14.jpg\n",
      "배우 봉태규2.jpg\n",
      "배우 소지섭1.jpg\n",
      "배우 신성록48.jpg\n",
      "배우 양세종32.jpg\n",
      "배우 양세종43.jpg\n",
      "배우 원빈43.jpg\n",
      "배우 윤계상36.jpg\n",
      "배우 이광수28.jpg\n",
      "배우 이동욱15.jpg\n",
      "배우 이상이31.jpg\n",
      "배우 이상이9.jpg\n",
      "배우 이준혁38.jpg\n",
      "배우 이준혁38.jpg\n",
      "배우 이진혁40.jpg\n",
      "배우 정건주12.jpg\n",
      "배우 정건주42.jpg\n",
      "배우 정건주42.jpg\n",
      "배우 정해인28.jpg\n",
      "배우 조병규20.jpg\n",
      "배우 지성28.jpg\n",
      "배우 진구24.jpg\n",
      "배우 최시원14.jpg\n",
      "배우 현우33.jpg\n",
      "비스트 용준형45.jpg\n",
      "빅뱅 탑45.jpg\n",
      "빅스 혁4.jpg\n",
      "빅스 혁4.jpg\n",
      "상속자들 김원21.jpg\n",
      "상속자들 이효신9.jpg\n",
      "상속자들 최영도17.jpg\n",
      "상속자들 최영도44.jpg\n",
      "서울대 김병수교수33.jpg\n",
      "서울대 김태환교수14.jpg\n",
      "수영선수 박태환33.jpg\n",
      "수영선수 박태환33.jpg\n",
      "스카이캐슬 차민혁23.jpg\n",
      "신세계그룹 부회장 정용진1.jpg\n",
      "신화 전진1.jpg\n",
      "아나운서 김윤상32.jpg\n",
      "야구선수 김태균16.jpg\n",
      "야구선수 류현진23.jpg\n",
      "야구선수 박희수1.jpg\n",
      "에픽하이 미쓰라진45.jpg\n",
      "엑소 디오27.jpg\n",
      "역도선수 사재혁1.jpg\n",
      "웹드스타 최현욱44.jpg\n",
      "웹드스타 최현욱44.jpg\n",
      "위아이 김요한38.jpg\n",
      "축구선수 김남일20.jpg\n",
      "축구선수 정승원34.jpg\n",
      "콩두컴퍼니 이두희27.jpg\n",
      "펄어비스 의장 김대일1.jpg\n",
      "펜싱선수 마세건8.jpg\n",
      "프로게이머 김근성45.jpg\n",
      "프로듀스101 유선호18.jpg\n",
      "플레디스 최민기33.jpg\n"
     ]
    }
   ],
   "source": [
    "cnt = 0\n",
    "for idx,val in enumerate(val_man_encodings):\n",
    "    if not val:\n",
    "        print(filelist[idx-cnt])\n",
    "        val_filelist.pop(idx-cnt)\n",
    "        val_image_path.pop(idx-cnt)\n",
    "        \n",
    "        cnt += 1"
   ]
  },
  {
   "cell_type": "code",
   "execution_count": 158,
   "metadata": {},
   "outputs": [],
   "source": [
    "t = []\n",
    "t = val_man_encodings.copy()\n",
    "man_val_encodings = sum(t,[])"
   ]
  },
  {
   "cell_type": "code",
   "execution_count": 159,
   "metadata": {},
   "outputs": [
    {
     "name": "stdout",
     "output_type": "stream",
     "text": [
      "1685 1685 1685\n"
     ]
    }
   ],
   "source": [
    "print(len(val_filelist),len(val_image_path),len(man_val_encodings))"
   ]
  },
  {
   "cell_type": "markdown",
   "metadata": {},
   "source": [
    "# 2.5 테스트 데이터 클래스 예측"
   ]
  },
  {
   "cell_type": "code",
   "execution_count": 263,
   "metadata": {},
   "outputs": [],
   "source": [
    "# val set으로 class 예측\n",
    "result = clf.predict(man_val_encodings)"
   ]
  },
  {
   "cell_type": "code",
   "execution_count": 264,
   "metadata": {},
   "outputs": [],
   "source": [
    "df_val_face = pd.DataFrame(index=val_filelist,columns=['class','imagepath'])\n",
    "# ImageDataGenerator.flow_from_dataframe 에서 class가 string형이어야 하므로 변환\n",
    "df_val_face['class'] = list(map(str,result))\n",
    "df_val_face['imagepath'] = val_image_path"
   ]
  },
  {
   "cell_type": "code",
   "execution_count": 265,
   "metadata": {},
   "outputs": [],
   "source": [
    "df_val_face.to_csv('./val_to_class.txt')"
   ]
  },
  {
   "cell_type": "markdown",
   "metadata": {},
   "source": [
    "# 2.6 훈련 데이터 클래스 재예측"
   ]
  },
  {
   "cell_type": "code",
   "execution_count": 259,
   "metadata": {},
   "outputs": [],
   "source": [
    "result2 = clf.predict(man_train_encodings)"
   ]
  },
  {
   "cell_type": "code",
   "execution_count": 260,
   "metadata": {},
   "outputs": [],
   "source": [
    "df_train_face = pd.DataFrame(index=train_filelist,columns=['class','imagepath'])\n",
    "df_train_face['class'] = list(map(str,result2))\n",
    "df_train_face['imagepath'] = train_image_files"
   ]
  },
  {
   "cell_type": "code",
   "execution_count": 249,
   "metadata": {},
   "outputs": [],
   "source": [
    "df_train_face = pd.concat([df_train_face['imagepath'],pd.get_dummies(df_train_face['class'])],axis=1)"
   ]
  },
  {
   "cell_type": "code",
   "execution_count": 261,
   "metadata": {},
   "outputs": [
    {
     "data": {
      "text/html": [
       "<div>\n",
       "<style scoped>\n",
       "    .dataframe tbody tr th:only-of-type {\n",
       "        vertical-align: middle;\n",
       "    }\n",
       "\n",
       "    .dataframe tbody tr th {\n",
       "        vertical-align: top;\n",
       "    }\n",
       "\n",
       "    .dataframe thead th {\n",
       "        text-align: right;\n",
       "    }\n",
       "</style>\n",
       "<table border=\"1\" class=\"dataframe\">\n",
       "  <thead>\n",
       "    <tr style=\"text-align: right;\">\n",
       "      <th></th>\n",
       "      <th>class</th>\n",
       "      <th>imagepath</th>\n",
       "    </tr>\n",
       "  </thead>\n",
       "  <tbody>\n",
       "    <tr>\n",
       "      <th>2AM 임슬옹11.jpg</th>\n",
       "      <td>1</td>\n",
       "      <td>C:\\Users\\성수현\\face_image_align\\수정본\\training\\tra...</td>\n",
       "    </tr>\n",
       "    <tr>\n",
       "      <th>2AM 임슬옹18.jpg</th>\n",
       "      <td>1</td>\n",
       "      <td>C:\\Users\\성수현\\face_image_align\\수정본\\training\\tra...</td>\n",
       "    </tr>\n",
       "    <tr>\n",
       "      <th>2AM 임슬옹19.jpg</th>\n",
       "      <td>1</td>\n",
       "      <td>C:\\Users\\성수현\\face_image_align\\수정본\\training\\tra...</td>\n",
       "    </tr>\n",
       "    <tr>\n",
       "      <th>2AM 임슬옹20.jpg</th>\n",
       "      <td>1</td>\n",
       "      <td>C:\\Users\\성수현\\face_image_align\\수정본\\training\\tra...</td>\n",
       "    </tr>\n",
       "    <tr>\n",
       "      <th>2AM 임슬옹28.jpg</th>\n",
       "      <td>3</td>\n",
       "      <td>C:\\Users\\성수현\\face_image_align\\수정본\\training\\tra...</td>\n",
       "    </tr>\n",
       "    <tr>\n",
       "      <th>...</th>\n",
       "      <td>...</td>\n",
       "      <td>...</td>\n",
       "    </tr>\n",
       "    <tr>\n",
       "      <th>호반건설 회장 김상열4.jpg</th>\n",
       "      <td>0</td>\n",
       "      <td>C:\\Users\\성수현\\face_image_align\\수정본\\training\\tra...</td>\n",
       "    </tr>\n",
       "    <tr>\n",
       "      <th>호반건설 회장 김상열40.jpg</th>\n",
       "      <td>0</td>\n",
       "      <td>C:\\Users\\성수현\\face_image_align\\수정본\\training\\tra...</td>\n",
       "    </tr>\n",
       "    <tr>\n",
       "      <th>호반건설 회장 김상열41.jpg</th>\n",
       "      <td>7</td>\n",
       "      <td>C:\\Users\\성수현\\face_image_align\\수정본\\training\\tra...</td>\n",
       "    </tr>\n",
       "    <tr>\n",
       "      <th>호반건설 회장 김상열42.jpg</th>\n",
       "      <td>0</td>\n",
       "      <td>C:\\Users\\성수현\\face_image_align\\수정본\\training\\tra...</td>\n",
       "    </tr>\n",
       "    <tr>\n",
       "      <th>호반건설 회장 김상열44.jpg</th>\n",
       "      <td>0</td>\n",
       "      <td>C:\\Users\\성수현\\face_image_align\\수정본\\training\\tra...</td>\n",
       "    </tr>\n",
       "  </tbody>\n",
       "</table>\n",
       "<p>6039 rows × 2 columns</p>\n",
       "</div>"
      ],
      "text/plain": [
       "                  class                                          imagepath\n",
       "2AM 임슬옹11.jpg         1  C:\\Users\\성수현\\face_image_align\\수정본\\training\\tra...\n",
       "2AM 임슬옹18.jpg         1  C:\\Users\\성수현\\face_image_align\\수정본\\training\\tra...\n",
       "2AM 임슬옹19.jpg         1  C:\\Users\\성수현\\face_image_align\\수정본\\training\\tra...\n",
       "2AM 임슬옹20.jpg         1  C:\\Users\\성수현\\face_image_align\\수정본\\training\\tra...\n",
       "2AM 임슬옹28.jpg         3  C:\\Users\\성수현\\face_image_align\\수정본\\training\\tra...\n",
       "...                 ...                                                ...\n",
       "호반건설 회장 김상열4.jpg      0  C:\\Users\\성수현\\face_image_align\\수정본\\training\\tra...\n",
       "호반건설 회장 김상열40.jpg     0  C:\\Users\\성수현\\face_image_align\\수정본\\training\\tra...\n",
       "호반건설 회장 김상열41.jpg     7  C:\\Users\\성수현\\face_image_align\\수정본\\training\\tra...\n",
       "호반건설 회장 김상열42.jpg     0  C:\\Users\\성수현\\face_image_align\\수정본\\training\\tra...\n",
       "호반건설 회장 김상열44.jpg     0  C:\\Users\\성수현\\face_image_align\\수정본\\training\\tra...\n",
       "\n",
       "[6039 rows x 2 columns]"
      ]
     },
     "execution_count": 261,
     "metadata": {},
     "output_type": "execute_result"
    }
   ],
   "source": [
    "df_train_face"
   ]
  },
  {
   "cell_type": "code",
   "execution_count": 262,
   "metadata": {},
   "outputs": [],
   "source": [
    "df_train_face.to_csv('./train_to_class.txt')"
   ]
  },
  {
   "cell_type": "code",
   "execution_count": 190,
   "metadata": {},
   "outputs": [],
   "source": [
    "df_face.to_csv('./toclass.txt')"
   ]
  },
  {
   "cell_type": "code",
   "execution_count": 193,
   "metadata": {
    "scrolled": true
   },
   "outputs": [
    {
     "data": {
      "text/html": [
       "<div>\n",
       "<style scoped>\n",
       "    .dataframe tbody tr th:only-of-type {\n",
       "        vertical-align: middle;\n",
       "    }\n",
       "\n",
       "    .dataframe tbody tr th {\n",
       "        vertical-align: top;\n",
       "    }\n",
       "\n",
       "    .dataframe thead th {\n",
       "        text-align: right;\n",
       "    }\n",
       "</style>\n",
       "<table border=\"1\" class=\"dataframe\">\n",
       "  <thead>\n",
       "    <tr style=\"text-align: right;\">\n",
       "      <th></th>\n",
       "      <th>class</th>\n",
       "      <th>imagepath</th>\n",
       "    </tr>\n",
       "  </thead>\n",
       "  <tbody>\n",
       "    <tr>\n",
       "      <th>B1A4 공찬21.jpg</th>\n",
       "      <td>11</td>\n",
       "      <td>C:\\Users\\성수현\\face_image_align\\수정본\\validate\\val...</td>\n",
       "    </tr>\n",
       "    <tr>\n",
       "      <th>BAP 영재38.jpg</th>\n",
       "      <td>11</td>\n",
       "      <td>C:\\Users\\성수현\\face_image_align\\수정본\\validate\\val...</td>\n",
       "    </tr>\n",
       "    <tr>\n",
       "      <th>FT 아일랜드 최종훈41.jpg</th>\n",
       "      <td>11</td>\n",
       "      <td>C:\\Users\\성수현\\face_image_align\\수정본\\validate\\val...</td>\n",
       "    </tr>\n",
       "    <tr>\n",
       "      <th>HOT 강타21.jpg</th>\n",
       "      <td>11</td>\n",
       "      <td>C:\\Users\\성수현\\face_image_align\\수정본\\validate\\val...</td>\n",
       "    </tr>\n",
       "    <tr>\n",
       "      <th>NCT 성찬3.jpg</th>\n",
       "      <td>11</td>\n",
       "      <td>C:\\Users\\성수현\\face_image_align\\수정본\\validate\\val...</td>\n",
       "    </tr>\n",
       "    <tr>\n",
       "      <th>...</th>\n",
       "      <td>...</td>\n",
       "      <td>...</td>\n",
       "    </tr>\n",
       "    <tr>\n",
       "      <th>프로듀스X101 이한결36.jpg</th>\n",
       "      <td>11</td>\n",
       "      <td>C:\\Users\\성수현\\face_image_align\\수정본\\training\\tra...</td>\n",
       "    </tr>\n",
       "    <tr>\n",
       "      <th>플레디스 최민기3.jpg</th>\n",
       "      <td>11</td>\n",
       "      <td>C:\\Users\\성수현\\face_image_align\\수정본\\training\\tra...</td>\n",
       "    </tr>\n",
       "    <tr>\n",
       "      <th>플레디스 최민기36.jpg</th>\n",
       "      <td>11</td>\n",
       "      <td>C:\\Users\\성수현\\face_image_align\\수정본\\training\\tra...</td>\n",
       "    </tr>\n",
       "    <tr>\n",
       "      <th>헤일로 오운33.jpg</th>\n",
       "      <td>11</td>\n",
       "      <td>C:\\Users\\성수현\\face_image_align\\수정본\\training\\tra...</td>\n",
       "    </tr>\n",
       "    <tr>\n",
       "      <th>헤일로 오운39.jpg</th>\n",
       "      <td>11</td>\n",
       "      <td>C:\\Users\\성수현\\face_image_align\\수정본\\training\\tra...</td>\n",
       "    </tr>\n",
       "  </tbody>\n",
       "</table>\n",
       "<p>512 rows × 2 columns</p>\n",
       "</div>"
      ],
      "text/plain": [
       "                    class                                          imagepath\n",
       "B1A4 공찬21.jpg          11  C:\\Users\\성수현\\face_image_align\\수정본\\validate\\val...\n",
       "BAP 영재38.jpg           11  C:\\Users\\성수현\\face_image_align\\수정본\\validate\\val...\n",
       "FT 아일랜드 최종훈41.jpg      11  C:\\Users\\성수현\\face_image_align\\수정본\\validate\\val...\n",
       "HOT 강타21.jpg           11  C:\\Users\\성수현\\face_image_align\\수정본\\validate\\val...\n",
       "NCT 성찬3.jpg            11  C:\\Users\\성수현\\face_image_align\\수정본\\validate\\val...\n",
       "...                   ...                                                ...\n",
       "프로듀스X101 이한결36.jpg     11  C:\\Users\\성수현\\face_image_align\\수정본\\training\\tra...\n",
       "플레디스 최민기3.jpg          11  C:\\Users\\성수현\\face_image_align\\수정본\\training\\tra...\n",
       "플레디스 최민기36.jpg         11  C:\\Users\\성수현\\face_image_align\\수정본\\training\\tra...\n",
       "헤일로 오운33.jpg           11  C:\\Users\\성수현\\face_image_align\\수정본\\training\\tra...\n",
       "헤일로 오운39.jpg           11  C:\\Users\\성수현\\face_image_align\\수정본\\training\\tra...\n",
       "\n",
       "[512 rows x 2 columns]"
      ]
     },
     "execution_count": 193,
     "metadata": {},
     "output_type": "execute_result"
    }
   ],
   "source": [
    "df_face[df_face['class'] == 11]"
   ]
  },
  {
   "cell_type": "code",
   "execution_count": null,
   "metadata": {},
   "outputs": [],
   "source": []
  }
 ],
 "metadata": {
  "kernelspec": {
   "display_name": "Python 3",
   "language": "python",
   "name": "python3"
  },
  "language_info": {
   "codemirror_mode": {
    "name": "ipython",
    "version": 3
   },
   "file_extension": ".py",
   "mimetype": "text/x-python",
   "name": "python",
   "nbconvert_exporter": "python",
   "pygments_lexer": "ipython3",
   "version": "3.6.10"
  }
 },
 "nbformat": 4,
 "nbformat_minor": 4
}
