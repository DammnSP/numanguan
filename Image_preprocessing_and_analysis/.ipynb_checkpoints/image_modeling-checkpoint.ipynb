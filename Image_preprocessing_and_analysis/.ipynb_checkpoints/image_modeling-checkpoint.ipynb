{
 "cells": [
  {
   "cell_type": "markdown",
   "id": "744f49d6",
   "metadata": {},
   "source": [
    "# 1. 학습 테스트 데이터 로딩"
   ]
  },
  {
   "cell_type": "code",
   "execution_count": 102,
   "id": "2b06d527",
   "metadata": {},
   "outputs": [],
   "source": [
    "import pandas as pd\n",
    "train = pd.read_csv('train_to_class.txt')\n",
    "val = pd.read_csv('val_to_class.txt')"
   ]
  },
  {
   "cell_type": "code",
   "execution_count": 136,
   "id": "5d3829dc",
   "metadata": {},
   "outputs": [
    {
     "data": {
      "text/html": [
       "<div>\n",
       "<style scoped>\n",
       "    .dataframe tbody tr th:only-of-type {\n",
       "        vertical-align: middle;\n",
       "    }\n",
       "\n",
       "    .dataframe tbody tr th {\n",
       "        vertical-align: top;\n",
       "    }\n",
       "\n",
       "    .dataframe thead th {\n",
       "        text-align: right;\n",
       "    }\n",
       "</style>\n",
       "<table border=\"1\" class=\"dataframe\">\n",
       "  <thead>\n",
       "    <tr style=\"text-align: right;\">\n",
       "      <th></th>\n",
       "      <th>Unnamed: 0</th>\n",
       "      <th>class</th>\n",
       "      <th>imagepath</th>\n",
       "    </tr>\n",
       "  </thead>\n",
       "  <tbody>\n",
       "    <tr>\n",
       "      <th>0</th>\n",
       "      <td>2AM 임슬옹11.jpg</td>\n",
       "      <td>1</td>\n",
       "      <td>C:\\Users\\성수현\\face_image_align\\수정본\\training\\tra...</td>\n",
       "    </tr>\n",
       "    <tr>\n",
       "      <th>1</th>\n",
       "      <td>2AM 임슬옹18.jpg</td>\n",
       "      <td>1</td>\n",
       "      <td>C:\\Users\\성수현\\face_image_align\\수정본\\training\\tra...</td>\n",
       "    </tr>\n",
       "    <tr>\n",
       "      <th>2</th>\n",
       "      <td>2AM 임슬옹19.jpg</td>\n",
       "      <td>1</td>\n",
       "      <td>C:\\Users\\성수현\\face_image_align\\수정본\\training\\tra...</td>\n",
       "    </tr>\n",
       "    <tr>\n",
       "      <th>3</th>\n",
       "      <td>2AM 임슬옹20.jpg</td>\n",
       "      <td>1</td>\n",
       "      <td>C:\\Users\\성수현\\face_image_align\\수정본\\training\\tra...</td>\n",
       "    </tr>\n",
       "    <tr>\n",
       "      <th>4</th>\n",
       "      <td>2AM 임슬옹28.jpg</td>\n",
       "      <td>3</td>\n",
       "      <td>C:\\Users\\성수현\\face_image_align\\수정본\\training\\tra...</td>\n",
       "    </tr>\n",
       "    <tr>\n",
       "      <th>...</th>\n",
       "      <td>...</td>\n",
       "      <td>...</td>\n",
       "      <td>...</td>\n",
       "    </tr>\n",
       "    <tr>\n",
       "      <th>6034</th>\n",
       "      <td>호반건설 회장 김상열4.jpg</td>\n",
       "      <td>0</td>\n",
       "      <td>C:\\Users\\성수현\\face_image_align\\수정본\\training\\tra...</td>\n",
       "    </tr>\n",
       "    <tr>\n",
       "      <th>6035</th>\n",
       "      <td>호반건설 회장 김상열40.jpg</td>\n",
       "      <td>0</td>\n",
       "      <td>C:\\Users\\성수현\\face_image_align\\수정본\\training\\tra...</td>\n",
       "    </tr>\n",
       "    <tr>\n",
       "      <th>6036</th>\n",
       "      <td>호반건설 회장 김상열41.jpg</td>\n",
       "      <td>7</td>\n",
       "      <td>C:\\Users\\성수현\\face_image_align\\수정본\\training\\tra...</td>\n",
       "    </tr>\n",
       "    <tr>\n",
       "      <th>6037</th>\n",
       "      <td>호반건설 회장 김상열42.jpg</td>\n",
       "      <td>0</td>\n",
       "      <td>C:\\Users\\성수현\\face_image_align\\수정본\\training\\tra...</td>\n",
       "    </tr>\n",
       "    <tr>\n",
       "      <th>6038</th>\n",
       "      <td>호반건설 회장 김상열44.jpg</td>\n",
       "      <td>0</td>\n",
       "      <td>C:\\Users\\성수현\\face_image_align\\수정본\\training\\tra...</td>\n",
       "    </tr>\n",
       "  </tbody>\n",
       "</table>\n",
       "<p>6039 rows × 3 columns</p>\n",
       "</div>"
      ],
      "text/plain": [
       "             Unnamed: 0  class  \\\n",
       "0         2AM 임슬옹11.jpg      1   \n",
       "1         2AM 임슬옹18.jpg      1   \n",
       "2         2AM 임슬옹19.jpg      1   \n",
       "3         2AM 임슬옹20.jpg      1   \n",
       "4         2AM 임슬옹28.jpg      3   \n",
       "...                 ...    ...   \n",
       "6034   호반건설 회장 김상열4.jpg      0   \n",
       "6035  호반건설 회장 김상열40.jpg      0   \n",
       "6036  호반건설 회장 김상열41.jpg      7   \n",
       "6037  호반건설 회장 김상열42.jpg      0   \n",
       "6038  호반건설 회장 김상열44.jpg      0   \n",
       "\n",
       "                                              imagepath  \n",
       "0     C:\\Users\\성수현\\face_image_align\\수정본\\training\\tra...  \n",
       "1     C:\\Users\\성수현\\face_image_align\\수정본\\training\\tra...  \n",
       "2     C:\\Users\\성수현\\face_image_align\\수정본\\training\\tra...  \n",
       "3     C:\\Users\\성수현\\face_image_align\\수정본\\training\\tra...  \n",
       "4     C:\\Users\\성수현\\face_image_align\\수정본\\training\\tra...  \n",
       "...                                                 ...  \n",
       "6034  C:\\Users\\성수현\\face_image_align\\수정본\\training\\tra...  \n",
       "6035  C:\\Users\\성수현\\face_image_align\\수정본\\training\\tra...  \n",
       "6036  C:\\Users\\성수현\\face_image_align\\수정본\\training\\tra...  \n",
       "6037  C:\\Users\\성수현\\face_image_align\\수정본\\training\\tra...  \n",
       "6038  C:\\Users\\성수현\\face_image_align\\수정본\\training\\tra...  \n",
       "\n",
       "[6039 rows x 3 columns]"
      ]
     },
     "execution_count": 136,
     "metadata": {},
     "output_type": "execute_result"
    }
   ],
   "source": [
    "train"
   ]
  },
  {
   "cell_type": "code",
   "execution_count": 104,
   "id": "2dba58d5",
   "metadata": {},
   "outputs": [
    {
     "data": {
      "text/html": [
       "<div>\n",
       "<style scoped>\n",
       "    .dataframe tbody tr th:only-of-type {\n",
       "        vertical-align: middle;\n",
       "    }\n",
       "\n",
       "    .dataframe tbody tr th {\n",
       "        vertical-align: top;\n",
       "    }\n",
       "\n",
       "    .dataframe thead th {\n",
       "        text-align: right;\n",
       "    }\n",
       "</style>\n",
       "<table border=\"1\" class=\"dataframe\">\n",
       "  <thead>\n",
       "    <tr style=\"text-align: right;\">\n",
       "      <th></th>\n",
       "      <th>Unnamed: 0</th>\n",
       "      <th>class</th>\n",
       "      <th>imagepath</th>\n",
       "    </tr>\n",
       "  </thead>\n",
       "  <tbody>\n",
       "    <tr>\n",
       "      <th>0</th>\n",
       "      <td>2AM 임슬옹26.jpg</td>\n",
       "      <td>3</td>\n",
       "      <td>C:\\Users\\성수현\\face_image_align\\수정본\\validate\\val...</td>\n",
       "    </tr>\n",
       "    <tr>\n",
       "      <th>1</th>\n",
       "      <td>2AM 임슬옹39.jpg</td>\n",
       "      <td>3</td>\n",
       "      <td>C:\\Users\\성수현\\face_image_align\\수정본\\validate\\val...</td>\n",
       "    </tr>\n",
       "    <tr>\n",
       "      <th>2</th>\n",
       "      <td>2AM 임슬옹40.jpg</td>\n",
       "      <td>3</td>\n",
       "      <td>C:\\Users\\성수현\\face_image_align\\수정본\\validate\\val...</td>\n",
       "    </tr>\n",
       "    <tr>\n",
       "      <th>3</th>\n",
       "      <td>2AM 임슬옹8.jpg</td>\n",
       "      <td>1</td>\n",
       "      <td>C:\\Users\\성수현\\face_image_align\\수정본\\validate\\val...</td>\n",
       "    </tr>\n",
       "    <tr>\n",
       "      <th>4</th>\n",
       "      <td>2PM 장우영27.jpg</td>\n",
       "      <td>1</td>\n",
       "      <td>C:\\Users\\성수현\\face_image_align\\수정본\\validate\\val...</td>\n",
       "    </tr>\n",
       "    <tr>\n",
       "      <th>...</th>\n",
       "      <td>...</td>\n",
       "      <td>...</td>\n",
       "      <td>...</td>\n",
       "    </tr>\n",
       "    <tr>\n",
       "      <th>1680</th>\n",
       "      <td>호반건설 회장 김상열12.jpg</td>\n",
       "      <td>8</td>\n",
       "      <td>C:\\Users\\성수현\\face_image_align\\수정본\\validate\\val...</td>\n",
       "    </tr>\n",
       "    <tr>\n",
       "      <th>1681</th>\n",
       "      <td>호반건설 회장 김상열33.jpg</td>\n",
       "      <td>0</td>\n",
       "      <td>C:\\Users\\성수현\\face_image_align\\수정본\\validate\\val...</td>\n",
       "    </tr>\n",
       "    <tr>\n",
       "      <th>1682</th>\n",
       "      <td>호반건설 회장 김상열34.jpg</td>\n",
       "      <td>0</td>\n",
       "      <td>C:\\Users\\성수현\\face_image_align\\수정본\\validate\\val...</td>\n",
       "    </tr>\n",
       "    <tr>\n",
       "      <th>1683</th>\n",
       "      <td>호반건설 회장 김상열47.jpg</td>\n",
       "      <td>0</td>\n",
       "      <td>C:\\Users\\성수현\\face_image_align\\수정본\\validate\\val...</td>\n",
       "    </tr>\n",
       "    <tr>\n",
       "      <th>1684</th>\n",
       "      <td>호반건설 회장 김상열8.jpg</td>\n",
       "      <td>0</td>\n",
       "      <td>C:\\Users\\성수현\\face_image_align\\수정본\\validate\\val...</td>\n",
       "    </tr>\n",
       "  </tbody>\n",
       "</table>\n",
       "<p>1685 rows × 3 columns</p>\n",
       "</div>"
      ],
      "text/plain": [
       "             Unnamed: 0  class  \\\n",
       "0         2AM 임슬옹26.jpg      3   \n",
       "1         2AM 임슬옹39.jpg      3   \n",
       "2         2AM 임슬옹40.jpg      3   \n",
       "3          2AM 임슬옹8.jpg      1   \n",
       "4         2PM 장우영27.jpg      1   \n",
       "...                 ...    ...   \n",
       "1680  호반건설 회장 김상열12.jpg      8   \n",
       "1681  호반건설 회장 김상열33.jpg      0   \n",
       "1682  호반건설 회장 김상열34.jpg      0   \n",
       "1683  호반건설 회장 김상열47.jpg      0   \n",
       "1684   호반건설 회장 김상열8.jpg      0   \n",
       "\n",
       "                                              imagepath  \n",
       "0     C:\\Users\\성수현\\face_image_align\\수정본\\validate\\val...  \n",
       "1     C:\\Users\\성수현\\face_image_align\\수정본\\validate\\val...  \n",
       "2     C:\\Users\\성수현\\face_image_align\\수정본\\validate\\val...  \n",
       "3     C:\\Users\\성수현\\face_image_align\\수정본\\validate\\val...  \n",
       "4     C:\\Users\\성수현\\face_image_align\\수정본\\validate\\val...  \n",
       "...                                                 ...  \n",
       "1680  C:\\Users\\성수현\\face_image_align\\수정본\\validate\\val...  \n",
       "1681  C:\\Users\\성수현\\face_image_align\\수정본\\validate\\val...  \n",
       "1682  C:\\Users\\성수현\\face_image_align\\수정본\\validate\\val...  \n",
       "1683  C:\\Users\\성수현\\face_image_align\\수정본\\validate\\val...  \n",
       "1684  C:\\Users\\성수현\\face_image_align\\수정본\\validate\\val...  \n",
       "\n",
       "[1685 rows x 3 columns]"
      ]
     },
     "execution_count": 104,
     "metadata": {},
     "output_type": "execute_result"
    }
   ],
   "source": [
    "val"
   ]
  },
  {
   "cell_type": "code",
   "execution_count": 140,
   "id": "bb0826da",
   "metadata": {},
   "outputs": [
    {
     "data": {
      "text/html": [
       "<div>\n",
       "<style scoped>\n",
       "    .dataframe tbody tr th:only-of-type {\n",
       "        vertical-align: middle;\n",
       "    }\n",
       "\n",
       "    .dataframe tbody tr th {\n",
       "        vertical-align: top;\n",
       "    }\n",
       "\n",
       "    .dataframe thead th {\n",
       "        text-align: right;\n",
       "    }\n",
       "</style>\n",
       "<table border=\"1\" class=\"dataframe\">\n",
       "  <thead>\n",
       "    <tr style=\"text-align: right;\">\n",
       "      <th></th>\n",
       "      <th>Unnamed: 0</th>\n",
       "      <th>class</th>\n",
       "      <th>imagepath</th>\n",
       "    </tr>\n",
       "  </thead>\n",
       "  <tbody>\n",
       "    <tr>\n",
       "      <th>0</th>\n",
       "      <td>2AM 임슬옹26.jpg</td>\n",
       "      <td>3</td>\n",
       "      <td>C:\\Users\\성수현\\face_image_align\\수정본\\validate\\val...</td>\n",
       "    </tr>\n",
       "    <tr>\n",
       "      <th>1</th>\n",
       "      <td>2AM 임슬옹39.jpg</td>\n",
       "      <td>3</td>\n",
       "      <td>C:\\Users\\성수현\\face_image_align\\수정본\\validate\\val...</td>\n",
       "    </tr>\n",
       "    <tr>\n",
       "      <th>2</th>\n",
       "      <td>2AM 임슬옹40.jpg</td>\n",
       "      <td>3</td>\n",
       "      <td>C:\\Users\\성수현\\face_image_align\\수정본\\validate\\val...</td>\n",
       "    </tr>\n",
       "    <tr>\n",
       "      <th>3</th>\n",
       "      <td>2AM 임슬옹8.jpg</td>\n",
       "      <td>1</td>\n",
       "      <td>C:\\Users\\성수현\\face_image_align\\수정본\\validate\\val...</td>\n",
       "    </tr>\n",
       "    <tr>\n",
       "      <th>4</th>\n",
       "      <td>2PM 장우영27.jpg</td>\n",
       "      <td>1</td>\n",
       "      <td>C:\\Users\\성수현\\face_image_align\\수정본\\validate\\val...</td>\n",
       "    </tr>\n",
       "    <tr>\n",
       "      <th>...</th>\n",
       "      <td>...</td>\n",
       "      <td>...</td>\n",
       "      <td>...</td>\n",
       "    </tr>\n",
       "    <tr>\n",
       "      <th>6034</th>\n",
       "      <td>호반건설 회장 김상열4.jpg</td>\n",
       "      <td>0</td>\n",
       "      <td>C:\\Users\\성수현\\face_image_align\\수정본\\training\\tra...</td>\n",
       "    </tr>\n",
       "    <tr>\n",
       "      <th>6035</th>\n",
       "      <td>호반건설 회장 김상열40.jpg</td>\n",
       "      <td>0</td>\n",
       "      <td>C:\\Users\\성수현\\face_image_align\\수정본\\training\\tra...</td>\n",
       "    </tr>\n",
       "    <tr>\n",
       "      <th>6036</th>\n",
       "      <td>호반건설 회장 김상열41.jpg</td>\n",
       "      <td>7</td>\n",
       "      <td>C:\\Users\\성수현\\face_image_align\\수정본\\training\\tra...</td>\n",
       "    </tr>\n",
       "    <tr>\n",
       "      <th>6037</th>\n",
       "      <td>호반건설 회장 김상열42.jpg</td>\n",
       "      <td>0</td>\n",
       "      <td>C:\\Users\\성수현\\face_image_align\\수정본\\training\\tra...</td>\n",
       "    </tr>\n",
       "    <tr>\n",
       "      <th>6038</th>\n",
       "      <td>호반건설 회장 김상열44.jpg</td>\n",
       "      <td>0</td>\n",
       "      <td>C:\\Users\\성수현\\face_image_align\\수정본\\training\\tra...</td>\n",
       "    </tr>\n",
       "  </tbody>\n",
       "</table>\n",
       "<p>7724 rows × 3 columns</p>\n",
       "</div>"
      ],
      "text/plain": [
       "             Unnamed: 0  class  \\\n",
       "0         2AM 임슬옹26.jpg      3   \n",
       "1         2AM 임슬옹39.jpg      3   \n",
       "2         2AM 임슬옹40.jpg      3   \n",
       "3          2AM 임슬옹8.jpg      1   \n",
       "4         2PM 장우영27.jpg      1   \n",
       "...                 ...    ...   \n",
       "6034   호반건설 회장 김상열4.jpg      0   \n",
       "6035  호반건설 회장 김상열40.jpg      0   \n",
       "6036  호반건설 회장 김상열41.jpg      7   \n",
       "6037  호반건설 회장 김상열42.jpg      0   \n",
       "6038  호반건설 회장 김상열44.jpg      0   \n",
       "\n",
       "                                              imagepath  \n",
       "0     C:\\Users\\성수현\\face_image_align\\수정본\\validate\\val...  \n",
       "1     C:\\Users\\성수현\\face_image_align\\수정본\\validate\\val...  \n",
       "2     C:\\Users\\성수현\\face_image_align\\수정본\\validate\\val...  \n",
       "3     C:\\Users\\성수현\\face_image_align\\수정본\\validate\\val...  \n",
       "4     C:\\Users\\성수현\\face_image_align\\수정본\\validate\\val...  \n",
       "...                                                 ...  \n",
       "6034  C:\\Users\\성수현\\face_image_align\\수정본\\training\\tra...  \n",
       "6035  C:\\Users\\성수현\\face_image_align\\수정본\\training\\tra...  \n",
       "6036  C:\\Users\\성수현\\face_image_align\\수정본\\training\\tra...  \n",
       "6037  C:\\Users\\성수현\\face_image_align\\수정본\\training\\tra...  \n",
       "6038  C:\\Users\\성수현\\face_image_align\\수정본\\training\\tra...  \n",
       "\n",
       "[7724 rows x 3 columns]"
      ]
     },
     "execution_count": 140,
     "metadata": {},
     "output_type": "execute_result"
    }
   ],
   "source": [
    "df = pd.concat([val,train])\n",
    "df"
   ]
  },
  {
   "cell_type": "code",
   "execution_count": 141,
   "id": "8b4c7333",
   "metadata": {},
   "outputs": [],
   "source": [
    "# class_mode = categorical을 적용하기위한 작업\n",
    "df['class'] = df['class'].apply(lambda x :[x])"
   ]
  },
  {
   "cell_type": "code",
   "execution_count": 144,
   "id": "abdbd7a8",
   "metadata": {},
   "outputs": [],
   "source": [
    "df.reset_index(drop=True,inplace=True)"
   ]
  },
  {
   "cell_type": "markdown",
   "id": "d123aba7",
   "metadata": {},
   "source": [
    "# 2. 모델 생성"
   ]
  },
  {
   "cell_type": "code",
   "execution_count": 114,
   "id": "da516eb7",
   "metadata": {},
   "outputs": [],
   "source": [
    "import matplotlib.pyplot as plt\n",
    "from keras import models\n",
    "from keras import layers\n",
    "\n",
    "model = models.Sequential()\n",
    "\n",
    "# hidden layer에 합성곱과 맥스 풀링 설정\n",
    "model.add(layers.Conv2D(256, (3, 3), activation='relu', input_shape=(150, 150, 3)))\n",
    "model.add(layers.MaxPooling2D(2, 2))\n",
    "model.add(layers.Conv2D(128, (3, 3), activation='relu'))\n",
    "model.add(layers.MaxPooling2D(2, 2))\n",
    "model.add(layers.Conv2D(64, (3, 3), activation='relu'))\n",
    "model.add(layers.MaxPooling2D(2, 2))\n",
    "\n",
    "\n",
    "# 1차원으로 변환\n",
    "model.add(layers.Flatten())\n",
    "\n",
    "# 입력 데이터에 50%의 노드를 무작위로 사용하지 않게 막는다.\n",
    "model.add(layers.Dropout(0.5))\n",
    "\n",
    "# 결과얻기\n",
    "# class를 13개로 정하였으므로 softmax 설정\n",
    "model.add(layers.Dense(512, activation='relu'))\n",
    "model.add(layers.Dense(13, activation='softmax'))"
   ]
  },
  {
   "cell_type": "markdown",
   "id": "5d778a8a",
   "metadata": {},
   "source": [
    "# 3. 모델 컴파일"
   ]
  },
  {
   "cell_type": "code",
   "execution_count": 116,
   "id": "bd291a09",
   "metadata": {},
   "outputs": [],
   "source": [
    "import tensorflow as tf\n",
    "from keras import optimizers\n",
    "from keras import losses\n",
    "from keras import metrics\n",
    "\n",
    "#출력이 13개이므로 categorical_crossentropy 설정\n",
    "model.compile(optimizer=tf.keras.optimizers.Adam(learning_rate=1e-5),\n",
    "              loss='categorical_crossentropy',\n",
    "              metrics=['acc'])"
   ]
  },
  {
   "cell_type": "markdown",
   "id": "d6988e53",
   "metadata": {},
   "source": [
    "# 4. 이미지 증식"
   ]
  },
  {
   "cell_type": "code",
   "execution_count": 121,
   "id": "7f56ec32",
   "metadata": {},
   "outputs": [],
   "source": [
    "from keras.preprocessing.image import ImageDataGenerator\n",
    "\n",
    "train_datagen = ImageDataGenerator(rescale=1./255)\n",
    "test_datagen = ImageDataGenerator(rescale=1./255)"
   ]
  },
  {
   "cell_type": "markdown",
   "id": "e7a11b67",
   "metadata": {},
   "source": [
    "# 4.1 train,validation, test datagen 생성\n",
    ">  8:1:1의 비율"
   ]
  },
  {
   "cell_type": "code",
   "execution_count": 122,
   "id": "2c844ec9",
   "metadata": {},
   "outputs": [],
   "source": [
    "from keras.preprocessing.image import ImageDataGenerator\n",
    "\n",
    "train_datagen = ImageDataGenerator(\n",
    "    rescale=1./255,\n",
    "    rotation_range=40,\n",
    "    shear_range = 0.2,\n",
    "    horizontal_flip=True,\n",
    "    fill_mode='constant'\n",
    ")\n",
    "\n",
    "# 검증 데이터는 증식을 사용하면 안됨\n",
    "# 모델의 과적합을 막기 위한 기술이므로 검증에서는 당연히 배제되어야 함.\n",
    "test_datagen = ImageDataGenerator(rescale=1./255)"
   ]
  },
  {
   "cell_type": "code",
   "execution_count": 156,
   "id": "c1bd558b",
   "metadata": {},
   "outputs": [
    {
     "name": "stdout",
     "output_type": "stream",
     "text": [
      "Found 6000 validated image filenames belonging to 13 classes.\n"
     ]
    }
   ],
   "source": [
    "train_generator = train_datagen.flow_from_dataframe(\n",
    "    #이미지 경로\n",
    "    df[:6000],\n",
    "    x_col='imagepath',\n",
    "    y_col='class',\n",
    "    # 사용할 이미지 크기\n",
    "    target_size=(150,150),\n",
    "    # 배치 크기\n",
    "    batch_size = 80,\n",
    "    # 손실 데이터 연관\n",
    "    class_mode = 'categorical',\n",
    "#     classes = ['0','1','2','3','4','5','6','7','8','9','10','11','12']\n",
    ")"
   ]
  },
  {
   "cell_type": "code",
   "execution_count": 154,
   "id": "2cb81b8d",
   "metadata": {},
   "outputs": [
    {
     "name": "stdout",
     "output_type": "stream",
     "text": [
      "Found 862 validated image filenames belonging to 13 classes.\n"
     ]
    }
   ],
   "source": [
    "validation_generator = test_datagen.flow_from_dataframe(\n",
    "    #이미지 경로\n",
    "    df[6000:6862],\n",
    "    x_col='imagepath',\n",
    "    y_col= 'class',\n",
    "    # 사용할 이미지 크기\n",
    "    target_size=(150,150),\n",
    "    # 배치 크기\n",
    "    batch_size = 30,\n",
    "    # 손실 데이터 연관\n",
    "    class_mode = 'categorical',\n",
    "#     classes = ['0','1','2','3','4','5','6','7','8','9','10','11','12']\n",
    ")"
   ]
  },
  {
   "cell_type": "code",
   "execution_count": 153,
   "id": "a865a7ce",
   "metadata": {},
   "outputs": [
    {
     "name": "stdout",
     "output_type": "stream",
     "text": [
      "Found 862 validated image filenames.\n"
     ]
    }
   ],
   "source": [
    "test_generator = test_datagen.flow_from_dataframe(\n",
    "    #이미지 경로\n",
    "    df[6862:7724],\n",
    "    x_col='imagepath',\n",
    "    y_col='class',\n",
    "    # 사용할 이미지 크기\n",
    "    target_size=(150,150),\n",
    "    # 배치 크기\n",
    "    batch_size = 30,\n",
    "    # 손실 데이터 연관\n",
    "    class_mode = None,\n",
    ")"
   ]
  },
  {
   "cell_type": "code",
   "execution_count": 181,
   "id": "c17c01f3",
   "metadata": {},
   "outputs": [
    {
     "name": "stderr",
     "output_type": "stream",
     "text": [
      "C:\\anaconda3\\lib\\site-packages\\keras\\engine\\training.py:1972: UserWarning: `Model.fit_generator` is deprecated and will be removed in a future version. Please use `Model.fit`, which supports generators.\n",
      "  warnings.warn('`Model.fit_generator` is deprecated and '\n"
     ]
    },
    {
     "name": "stdout",
     "output_type": "stream",
     "text": [
      "Epoch 1/80\n",
      "75/75 [==============================] - 425s 6s/step - loss: 2.1368 - acc: 0.2405 - val_loss: 2.1983 - val_acc: 0.2571\n",
      "Epoch 2/80\n",
      "75/75 [==============================] - 433s 6s/step - loss: 2.1042 - acc: 0.2552 - val_loss: 2.1545 - val_acc: 0.2702\n",
      "Epoch 3/80\n",
      "75/75 [==============================] - 431s 6s/step - loss: 2.0890 - acc: 0.2620 - val_loss: 2.1513 - val_acc: 0.2524\n",
      "Epoch 4/80\n",
      "75/75 [==============================] - 431s 6s/step - loss: 2.0667 - acc: 0.2693 - val_loss: 2.1142 - val_acc: 0.2786\n",
      "Epoch 5/80\n",
      "75/75 [==============================] - 430s 6s/step - loss: 2.0478 - acc: 0.2735 - val_loss: 2.0917 - val_acc: 0.2798\n",
      "Epoch 6/80\n",
      "75/75 [==============================] - 430s 6s/step - loss: 2.0252 - acc: 0.2805 - val_loss: 2.0763 - val_acc: 0.2833\n",
      "Epoch 7/80\n",
      "75/75 [==============================] - 430s 6s/step - loss: 2.0218 - acc: 0.2772 - val_loss: 2.0652 - val_acc: 0.2988\n",
      "Epoch 8/80\n",
      "75/75 [==============================] - 430s 6s/step - loss: 2.0070 - acc: 0.2788 - val_loss: 2.0404 - val_acc: 0.3119\n",
      "Epoch 9/80\n",
      "75/75 [==============================] - 429s 6s/step - loss: 1.9945 - acc: 0.2900 - val_loss: 2.0284 - val_acc: 0.3083\n",
      "Epoch 10/80\n",
      "75/75 [==============================] - 430s 6s/step - loss: 1.9803 - acc: 0.2915 - val_loss: 2.0262 - val_acc: 0.3060\n",
      "Epoch 11/80\n",
      "75/75 [==============================] - 431s 6s/step - loss: 1.9635 - acc: 0.2960 - val_loss: 2.0479 - val_acc: 0.3048\n",
      "Epoch 12/80\n",
      "75/75 [==============================] - 430s 6s/step - loss: 1.9604 - acc: 0.3040 - val_loss: 2.0103 - val_acc: 0.3226\n",
      "Epoch 13/80\n",
      "75/75 [==============================] - 433s 6s/step - loss: 1.9449 - acc: 0.2985 - val_loss: 2.0108 - val_acc: 0.3179\n",
      "Epoch 14/80\n",
      "75/75 [==============================] - 435s 6s/step - loss: 1.9447 - acc: 0.3048 - val_loss: 1.9999 - val_acc: 0.3202\n",
      "Epoch 15/80\n",
      "75/75 [==============================] - 432s 6s/step - loss: 1.9270 - acc: 0.3097 - val_loss: 2.0110 - val_acc: 0.3131\n",
      "Epoch 16/80\n",
      "75/75 [==============================] - 430s 6s/step - loss: 1.9254 - acc: 0.3087 - val_loss: 1.9806 - val_acc: 0.3262\n",
      "Epoch 17/80\n",
      "75/75 [==============================] - 430s 6s/step - loss: 1.9111 - acc: 0.3165 - val_loss: 1.9669 - val_acc: 0.3250\n",
      "Epoch 18/80\n",
      "75/75 [==============================] - 430s 6s/step - loss: 1.9054 - acc: 0.3187 - val_loss: 1.9811 - val_acc: 0.3333\n",
      "Epoch 19/80\n",
      "75/75 [==============================] - 431s 6s/step - loss: 1.8986 - acc: 0.3172 - val_loss: 1.9610 - val_acc: 0.3369\n",
      "Epoch 20/80\n",
      "75/75 [==============================] - 429s 6s/step - loss: 1.8908 - acc: 0.3165 - val_loss: 1.9510 - val_acc: 0.3345\n",
      "Epoch 21/80\n",
      "75/75 [==============================] - 429s 6s/step - loss: 1.8796 - acc: 0.3305 - val_loss: 1.9794 - val_acc: 0.3119\n",
      "Epoch 22/80\n",
      "75/75 [==============================] - 429s 6s/step - loss: 1.8723 - acc: 0.3235 - val_loss: 1.9635 - val_acc: 0.3345\n",
      "Epoch 23/80\n",
      "75/75 [==============================] - 429s 6s/step - loss: 1.8585 - acc: 0.3298 - val_loss: 1.9339 - val_acc: 0.3369\n",
      "Epoch 24/80\n",
      "75/75 [==============================] - 429s 6s/step - loss: 1.8729 - acc: 0.3223 - val_loss: 1.9273 - val_acc: 0.3417\n",
      "Epoch 25/80\n",
      "75/75 [==============================] - 430s 6s/step - loss: 1.8527 - acc: 0.3313 - val_loss: 1.9405 - val_acc: 0.3464\n",
      "Epoch 26/80\n",
      "75/75 [==============================] - 429s 6s/step - loss: 1.8445 - acc: 0.3295 - val_loss: 1.9267 - val_acc: 0.3476\n",
      "Epoch 27/80\n",
      "75/75 [==============================] - 430s 6s/step - loss: 1.8336 - acc: 0.3303 - val_loss: 1.9108 - val_acc: 0.3464\n",
      "Epoch 28/80\n",
      "75/75 [==============================] - 429s 6s/step - loss: 1.8304 - acc: 0.3350 - val_loss: 1.9343 - val_acc: 0.3417\n",
      "Epoch 29/80\n",
      "75/75 [==============================] - 429s 6s/step - loss: 1.8277 - acc: 0.3375 - val_loss: 1.9042 - val_acc: 0.3548\n",
      "Epoch 30/80\n",
      "75/75 [==============================] - 429s 6s/step - loss: 1.8197 - acc: 0.3407 - val_loss: 1.9162 - val_acc: 0.3464\n",
      "Epoch 31/80\n",
      "75/75 [==============================] - 430s 6s/step - loss: 1.8171 - acc: 0.3427 - val_loss: 1.9334 - val_acc: 0.3440\n",
      "Epoch 32/80\n",
      "75/75 [==============================] - 429s 6s/step - loss: 1.8178 - acc: 0.3475 - val_loss: 1.8901 - val_acc: 0.3560\n",
      "Epoch 33/80\n",
      "75/75 [==============================] - 429s 6s/step - loss: 1.8049 - acc: 0.3587 - val_loss: 1.8881 - val_acc: 0.3524\n",
      "Epoch 34/80\n",
      "75/75 [==============================] - 428s 6s/step - loss: 1.8031 - acc: 0.3510 - val_loss: 1.9035 - val_acc: 0.3560\n",
      "Epoch 35/80\n",
      "75/75 [==============================] - 429s 6s/step - loss: 1.7943 - acc: 0.3485 - val_loss: 1.8863 - val_acc: 0.3536\n",
      "Epoch 36/80\n",
      "75/75 [==============================] - 429s 6s/step - loss: 1.7970 - acc: 0.3477 - val_loss: 1.8970 - val_acc: 0.3548\n",
      "Epoch 37/80\n",
      "75/75 [==============================] - 429s 6s/step - loss: 1.7905 - acc: 0.3473 - val_loss: 1.8644 - val_acc: 0.3524\n",
      "Epoch 38/80\n",
      "75/75 [==============================] - 428s 6s/step - loss: 1.7784 - acc: 0.3562 - val_loss: 1.8504 - val_acc: 0.3560\n",
      "Epoch 39/80\n",
      "75/75 [==============================] - 428s 6s/step - loss: 1.7849 - acc: 0.3502 - val_loss: 1.8550 - val_acc: 0.3571\n",
      "Epoch 40/80\n",
      "75/75 [==============================] - 429s 6s/step - loss: 1.7793 - acc: 0.3512 - val_loss: 1.8765 - val_acc: 0.3548\n",
      "Epoch 41/80\n",
      "75/75 [==============================] - 427s 6s/step - loss: 1.7701 - acc: 0.3595 - val_loss: 1.8538 - val_acc: 0.3536\n",
      "Epoch 42/80\n",
      "75/75 [==============================] - 428s 6s/step - loss: 1.7704 - acc: 0.3563 - val_loss: 1.8367 - val_acc: 0.3667\n",
      "Epoch 43/80\n",
      "75/75 [==============================] - 427s 6s/step - loss: 1.7595 - acc: 0.3657 - val_loss: 1.8589 - val_acc: 0.3655\n",
      "Epoch 44/80\n",
      "75/75 [==============================] - 430s 6s/step - loss: 1.7585 - acc: 0.3600 - val_loss: 1.8575 - val_acc: 0.3560\n",
      "Epoch 45/80\n",
      "75/75 [==============================] - 428s 6s/step - loss: 1.7512 - acc: 0.3627 - val_loss: 1.8239 - val_acc: 0.3536\n",
      "Epoch 46/80\n",
      "75/75 [==============================] - 428s 6s/step - loss: 1.7584 - acc: 0.3615 - val_loss: 1.8475 - val_acc: 0.3560\n",
      "Epoch 47/80\n",
      "75/75 [==============================] - 428s 6s/step - loss: 1.7558 - acc: 0.3593 - val_loss: 1.8441 - val_acc: 0.3619\n",
      "Epoch 48/80\n",
      "75/75 [==============================] - 429s 6s/step - loss: 1.7512 - acc: 0.3680 - val_loss: 1.8323 - val_acc: 0.3643\n",
      "Epoch 49/80\n",
      "75/75 [==============================] - 429s 6s/step - loss: 1.7311 - acc: 0.3712 - val_loss: 1.8161 - val_acc: 0.3619\n",
      "Epoch 50/80\n",
      "75/75 [==============================] - 428s 6s/step - loss: 1.7338 - acc: 0.3698 - val_loss: 1.8322 - val_acc: 0.3595\n",
      "Epoch 51/80\n",
      "75/75 [==============================] - 428s 6s/step - loss: 1.7306 - acc: 0.3732 - val_loss: 1.8259 - val_acc: 0.3679\n",
      "Epoch 52/80\n",
      "75/75 [==============================] - 429s 6s/step - loss: 1.7326 - acc: 0.3730 - val_loss: 1.8236 - val_acc: 0.3702\n",
      "Epoch 53/80\n",
      "75/75 [==============================] - 428s 6s/step - loss: 1.7283 - acc: 0.3733 - val_loss: 1.8263 - val_acc: 0.3536\n",
      "Epoch 54/80\n",
      "75/75 [==============================] - 428s 6s/step - loss: 1.7179 - acc: 0.3770 - val_loss: 1.8074 - val_acc: 0.3643\n",
      "Epoch 55/80\n",
      "75/75 [==============================] - 429s 6s/step - loss: 1.7293 - acc: 0.3717 - val_loss: 1.8130 - val_acc: 0.3655\n",
      "Epoch 56/80\n",
      "75/75 [==============================] - 428s 6s/step - loss: 1.7149 - acc: 0.3698 - val_loss: 1.8181 - val_acc: 0.3595\n",
      "Epoch 57/80\n",
      "75/75 [==============================] - 428s 6s/step - loss: 1.7144 - acc: 0.3725 - val_loss: 1.8242 - val_acc: 0.3667\n",
      "Epoch 58/80\n",
      "75/75 [==============================] - 430s 6s/step - loss: 1.7056 - acc: 0.3882 - val_loss: 1.8462 - val_acc: 0.3548\n",
      "Epoch 59/80\n",
      "75/75 [==============================] - 430s 6s/step - loss: 1.7042 - acc: 0.3828 - val_loss: 1.8160 - val_acc: 0.3702\n",
      "Epoch 60/80\n",
      "75/75 [==============================] - 429s 6s/step - loss: 1.6973 - acc: 0.3810 - val_loss: 1.7947 - val_acc: 0.3821\n",
      "Epoch 61/80\n",
      "75/75 [==============================] - 429s 6s/step - loss: 1.7067 - acc: 0.3737 - val_loss: 1.8320 - val_acc: 0.3667\n",
      "Epoch 62/80\n",
      "75/75 [==============================] - 428s 6s/step - loss: 1.7001 - acc: 0.3857 - val_loss: 1.7972 - val_acc: 0.3655\n",
      "Epoch 63/80\n"
     ]
    },
    {
     "name": "stdout",
     "output_type": "stream",
     "text": [
      "75/75 [==============================] - 427s 6s/step - loss: 1.6900 - acc: 0.3898 - val_loss: 1.8172 - val_acc: 0.3762\n",
      "Epoch 64/80\n",
      "75/75 [==============================] - 428s 6s/step - loss: 1.6891 - acc: 0.3832 - val_loss: 1.8206 - val_acc: 0.3607\n",
      "Epoch 65/80\n",
      "75/75 [==============================] - 427s 6s/step - loss: 1.6922 - acc: 0.3890 - val_loss: 1.8038 - val_acc: 0.3786\n",
      "Epoch 66/80\n",
      "75/75 [==============================] - 428s 6s/step - loss: 1.6849 - acc: 0.3893 - val_loss: 1.7985 - val_acc: 0.3643\n",
      "Epoch 67/80\n",
      "75/75 [==============================] - 428s 6s/step - loss: 1.6818 - acc: 0.3908 - val_loss: 1.7866 - val_acc: 0.3702\n",
      "Epoch 68/80\n",
      "75/75 [==============================] - 429s 6s/step - loss: 1.6749 - acc: 0.3960 - val_loss: 1.7924 - val_acc: 0.3702\n",
      "Epoch 69/80\n",
      "75/75 [==============================] - 431s 6s/step - loss: 1.6878 - acc: 0.3928 - val_loss: 1.8049 - val_acc: 0.3750\n",
      "Epoch 70/80\n",
      "75/75 [==============================] - 428s 6s/step - loss: 1.6832 - acc: 0.3905 - val_loss: 1.8291 - val_acc: 0.3726\n",
      "Epoch 71/80\n",
      "75/75 [==============================] - 428s 6s/step - loss: 1.6728 - acc: 0.3882 - val_loss: 1.8114 - val_acc: 0.3571\n",
      "Epoch 72/80\n",
      "75/75 [==============================] - 428s 6s/step - loss: 1.6765 - acc: 0.3938 - val_loss: 1.7890 - val_acc: 0.3774\n",
      "Epoch 73/80\n",
      "75/75 [==============================] - 427s 6s/step - loss: 1.6652 - acc: 0.3923 - val_loss: 1.8070 - val_acc: 0.3560\n",
      "Epoch 74/80\n",
      "75/75 [==============================] - 429s 6s/step - loss: 1.6743 - acc: 0.3995 - val_loss: 1.8088 - val_acc: 0.3702\n",
      "Epoch 75/80\n",
      "75/75 [==============================] - 429s 6s/step - loss: 1.6625 - acc: 0.3932 - val_loss: 1.7988 - val_acc: 0.3667\n",
      "Epoch 76/80\n",
      "75/75 [==============================] - 430s 6s/step - loss: 1.6629 - acc: 0.3922 - val_loss: 1.7784 - val_acc: 0.3726\n",
      "Epoch 77/80\n",
      "75/75 [==============================] - 430s 6s/step - loss: 1.6612 - acc: 0.4025 - val_loss: 1.7819 - val_acc: 0.3667\n",
      "Epoch 78/80\n",
      "75/75 [==============================] - 429s 6s/step - loss: 1.6522 - acc: 0.4075 - val_loss: 1.7873 - val_acc: 0.3655\n",
      "Epoch 79/80\n",
      "75/75 [==============================] - 453s 6s/step - loss: 1.6506 - acc: 0.3963 - val_loss: 1.7881 - val_acc: 0.3690\n",
      "Epoch 80/80\n",
      "75/75 [==============================] - 439s 6s/step - loss: 1.6565 - acc: 0.4005 - val_loss: 1.7873 - val_acc: 0.3619\n"
     ]
    }
   ],
   "source": [
    "STEP_SIZE_TRAIN=train_generator.n//train_generator.batch_size\n",
    "STEP_SIZE_VALID=validation_generator.n//validation_generator.batch_size\n",
    "STEP_SIZE_TEST=test_generator.n//test_generator.batch_size\n",
    "history = model.fit_generator(generator=train_generator,\n",
    "                    steps_per_epoch=STEP_SIZE_TRAIN,\n",
    "                    validation_data=validation_generator,\n",
    "                    validation_steps=STEP_SIZE_VALID,\n",
    "                    epochs=80\n",
    ")"
   ]
  },
  {
   "cell_type": "code",
   "execution_count": 182,
   "id": "3a5cb9a1",
   "metadata": {},
   "outputs": [
    {
     "data": {
      "image/png": "[encoded data removed]",
      "text/plain": [
       "<Figure size 432x288 with 1 Axes>"
      ]
     },
     "metadata": {
      "needs_background": "light"
     },
     "output_type": "display_data"
    }
   ],
   "source": [
    "import matplotlib.pyplot as plt\n",
    "\n",
    "acc = history.history['acc']\n",
    "val_acc = history.history['val_acc']\n",
    "\n",
    "epochs = range(len(acc))\n",
    "\n",
    "plt.plot(epochs, acc , 'bo', label = 'Training acc')\n",
    "plt.plot(epochs, val_acc, 'b',label='Validation acc')\n",
    "plt.legend()\n",
    "\n",
    "plt.show()"
   ]
  },
  {
   "cell_type": "code",
   "execution_count": 183,
   "id": "c6ac1035",
   "metadata": {},
   "outputs": [
    {
     "data": {
      "image/png": "[encoded data removed]",
      "text/plain": [
       "<Figure size 432x288 with 1 Axes>"
      ]
     },
     "metadata": {
      "needs_background": "light"
     },
     "output_type": "display_data"
    }
   ],
   "source": [
    "import matplotlib.pyplot as plt\n",
    "\n",
    "loss = history.history['loss']\n",
    "val_loss = history.history['val_loss']\n",
    "\n",
    "epochs = range(len(loss))\n",
    "\n",
    "plt.plot(epochs, loss , 'bo', label = 'Training loss')\n",
    "plt.plot(epochs, val_loss, 'b',label='Validation loss')\n",
    "plt.legend()\n",
    "\n",
    "plt.show()"
   ]
  },
  {
   "cell_type": "code",
   "execution_count": 184,
   "id": "598e6c2c",
   "metadata": {},
   "outputs": [],
   "source": [
    "model.save_weights('checkpoints')"
   ]
  },
  {
   "cell_type": "code",
   "execution_count": 185,
   "id": "375c37ae",
   "metadata": {},
   "outputs": [
    {
     "ename": "AttributeError",
     "evalue": "module 'h5py' has no attribute 'File'",
     "output_type": "error",
     "traceback": [
      "\u001b[1;31m---------------------------------------------------------------------------\u001b[0m",
      "\u001b[1;31mAttributeError\u001b[0m                            Traceback (most recent call last)",
      "\u001b[1;32m<ipython-input-185-7e8091166331>\u001b[0m in \u001b[0;36m<module>\u001b[1;34m\u001b[0m\n\u001b[0;32m      1\u001b[0m \u001b[1;32mfrom\u001b[0m \u001b[0mtensorflow\u001b[0m\u001b[1;33m.\u001b[0m\u001b[0mkeras\u001b[0m\u001b[1;33m.\u001b[0m\u001b[0mmodels\u001b[0m \u001b[1;32mimport\u001b[0m \u001b[0mload_model\u001b[0m\u001b[1;33m\u001b[0m\u001b[1;33m\u001b[0m\u001b[0m\n\u001b[1;32m----> 2\u001b[1;33m \u001b[0mmodel\u001b[0m\u001b[1;33m.\u001b[0m\u001b[0msave\u001b[0m\u001b[1;33m(\u001b[0m\u001b[1;34m\"model.h5\"\u001b[0m\u001b[1;33m)\u001b[0m\u001b[1;33m\u001b[0m\u001b[1;33m\u001b[0m\u001b[0m\n\u001b[0m",
      "\u001b[1;32mC:\\anaconda3\\lib\\site-packages\\keras\\engine\\training.py\u001b[0m in \u001b[0;36msave\u001b[1;34m(self, filepath, overwrite, include_optimizer, save_format, signatures, options, save_traces)\u001b[0m\n\u001b[0;32m   2144\u001b[0m     \u001b[1;31m# pylint: enable=line-too-long\u001b[0m\u001b[1;33m\u001b[0m\u001b[1;33m\u001b[0m\u001b[1;33m\u001b[0m\u001b[0m\n\u001b[0;32m   2145\u001b[0m     save.save_model(self, filepath, overwrite, include_optimizer, save_format,\n\u001b[1;32m-> 2146\u001b[1;33m                     signatures, options, save_traces)\n\u001b[0m\u001b[0;32m   2147\u001b[0m \u001b[1;33m\u001b[0m\u001b[0m\n\u001b[0;32m   2148\u001b[0m   def save_weights(self,\n",
      "\u001b[1;32mC:\\anaconda3\\lib\\site-packages\\keras\\saving\\save.py\u001b[0m in \u001b[0;36msave_model\u001b[1;34m(model, filepath, overwrite, include_optimizer, save_format, signatures, options, save_traces)\u001b[0m\n\u001b[0;32m    131\u001b[0m \u001b[1;33m\u001b[0m\u001b[0m\n\u001b[0;32m    132\u001b[0m   if (save_format == 'h5' or\n\u001b[1;32m--> 133\u001b[1;33m       \u001b[1;33m(\u001b[0m\u001b[0mh5py\u001b[0m \u001b[1;32mis\u001b[0m \u001b[1;32mnot\u001b[0m \u001b[1;32mNone\u001b[0m \u001b[1;32mand\u001b[0m \u001b[0misinstance\u001b[0m\u001b[1;33m(\u001b[0m\u001b[0mfilepath\u001b[0m\u001b[1;33m,\u001b[0m \u001b[0mh5py\u001b[0m\u001b[1;33m.\u001b[0m\u001b[0mFile\u001b[0m\u001b[1;33m)\u001b[0m\u001b[1;33m)\u001b[0m \u001b[1;32mor\u001b[0m\u001b[1;33m\u001b[0m\u001b[1;33m\u001b[0m\u001b[0m\n\u001b[0m\u001b[0;32m    134\u001b[0m       saving_utils.is_hdf5_filepath(filepath)):\n\u001b[0;32m    135\u001b[0m     \u001b[1;31m# TODO(b/130258301): add utility method for detecting model type.\u001b[0m\u001b[1;33m\u001b[0m\u001b[1;33m\u001b[0m\u001b[1;33m\u001b[0m\u001b[0m\n",
      "\u001b[1;31mAttributeError\u001b[0m: module 'h5py' has no attribute 'File'"
     ]
    }
   ],
   "source": [
    "from tensorflow.keras.models import load_model\n",
    "model.save(\"model.h5\")"
   ]
  },
  {
   "cell_type": "code",
   "execution_count": 186,
   "id": "b29c4969",
   "metadata": {},
   "outputs": [
    {
     "ename": "AttributeError",
     "evalue": "module 'h5py' has no attribute 'File'",
     "output_type": "error",
     "traceback": [
      "\u001b[1;31m---------------------------------------------------------------------------\u001b[0m",
      "\u001b[1;31mAttributeError\u001b[0m                            Traceback (most recent call last)",
      "\u001b[1;32m<ipython-input-186-aca28a0af022>\u001b[0m in \u001b[0;36m<module>\u001b[1;34m\u001b[0m\n\u001b[0;32m      2\u001b[0m \u001b[1;32mimport\u001b[0m \u001b[0mos\u001b[0m\u001b[1;33m\u001b[0m\u001b[1;33m\u001b[0m\u001b[0m\n\u001b[0;32m      3\u001b[0m \u001b[1;33m\u001b[0m\u001b[0m\n\u001b[1;32m----> 4\u001b[1;33m \u001b[0mmodel\u001b[0m\u001b[1;33m.\u001b[0m\u001b[0msave\u001b[0m\u001b[1;33m(\u001b[0m\u001b[1;34m\"model\"\u001b[0m\u001b[1;33m)\u001b[0m\u001b[1;33m\u001b[0m\u001b[1;33m\u001b[0m\u001b[0m\n\u001b[0m",
      "\u001b[1;32mC:\\anaconda3\\lib\\site-packages\\keras\\engine\\training.py\u001b[0m in \u001b[0;36msave\u001b[1;34m(self, filepath, overwrite, include_optimizer, save_format, signatures, options, save_traces)\u001b[0m\n\u001b[0;32m   2144\u001b[0m     \u001b[1;31m# pylint: enable=line-too-long\u001b[0m\u001b[1;33m\u001b[0m\u001b[1;33m\u001b[0m\u001b[1;33m\u001b[0m\u001b[0m\n\u001b[0;32m   2145\u001b[0m     save.save_model(self, filepath, overwrite, include_optimizer, save_format,\n\u001b[1;32m-> 2146\u001b[1;33m                     signatures, options, save_traces)\n\u001b[0m\u001b[0;32m   2147\u001b[0m \u001b[1;33m\u001b[0m\u001b[0m\n\u001b[0;32m   2148\u001b[0m   def save_weights(self,\n",
      "\u001b[1;32mC:\\anaconda3\\lib\\site-packages\\keras\\saving\\save.py\u001b[0m in \u001b[0;36msave_model\u001b[1;34m(model, filepath, overwrite, include_optimizer, save_format, signatures, options, save_traces)\u001b[0m\n\u001b[0;32m    131\u001b[0m \u001b[1;33m\u001b[0m\u001b[0m\n\u001b[0;32m    132\u001b[0m   if (save_format == 'h5' or\n\u001b[1;32m--> 133\u001b[1;33m       \u001b[1;33m(\u001b[0m\u001b[0mh5py\u001b[0m \u001b[1;32mis\u001b[0m \u001b[1;32mnot\u001b[0m \u001b[1;32mNone\u001b[0m \u001b[1;32mand\u001b[0m \u001b[0misinstance\u001b[0m\u001b[1;33m(\u001b[0m\u001b[0mfilepath\u001b[0m\u001b[1;33m,\u001b[0m \u001b[0mh5py\u001b[0m\u001b[1;33m.\u001b[0m\u001b[0mFile\u001b[0m\u001b[1;33m)\u001b[0m\u001b[1;33m)\u001b[0m \u001b[1;32mor\u001b[0m\u001b[1;33m\u001b[0m\u001b[1;33m\u001b[0m\u001b[0m\n\u001b[0m\u001b[0;32m    134\u001b[0m       saving_utils.is_hdf5_filepath(filepath)):\n\u001b[0;32m    135\u001b[0m     \u001b[1;31m# TODO(b/130258301): add utility method for detecting model type.\u001b[0m\u001b[1;33m\u001b[0m\u001b[1;33m\u001b[0m\u001b[1;33m\u001b[0m\u001b[0m\n",
      "\u001b[1;31mAttributeError\u001b[0m: module 'h5py' has no attribute 'File'"
     ]
    }
   ],
   "source": [
    "from tensorflow.keras.models import save_model\n",
    "import os\n",
    "\n",
    "model.save(\"model\")"
   ]
  },
  {
   "cell_type": "code",
   "execution_count": 187,
   "id": "8c3e3000",
   "metadata": {},
   "outputs": [],
   "source": [
    "import numpy as np\n",
    "from tensorflow.keras.models import load_model\n",
    "\n",
    "history_path = './model/my_history.npy'\n",
    "np.save(history_path, history.history)"
   ]
  },
  {
   "cell_type": "code",
   "execution_count": 188,
   "id": "decc41f7",
   "metadata": {},
   "outputs": [],
   "source": [
    "!git config --global user.email \"dame95@naver.com\""
   ]
  },
  {
   "cell_type": "code",
   "execution_count": 189,
   "id": "16665586",
   "metadata": {},
   "outputs": [],
   "source": [
    "!git config --global user.name \"marudengi\""
   ]
  },
  {
   "cell_type": "code",
   "execution_count": 192,
   "id": "6f97dbb8",
   "metadata": {},
   "outputs": [],
   "source": [
    "!git config --global core.quotepath false"
   ]
  },
  {
   "cell_type": "code",
   "execution_count": 193,
   "id": "77ae42bf",
   "metadata": {},
   "outputs": [
    {
     "name": "stdout",
     "output_type": "stream",
     "text": [
      "Reinitialized existing Git repository in C:/Users/�꽦�닔�쁽/face_image_align/.git/\n"
     ]
    }
   ],
   "source": [
    "!git init"
   ]
  },
  {
   "cell_type": "code",
   "execution_count": 196,
   "id": "f78b0e04",
   "metadata": {},
   "outputs": [
    {
     "name": "stdout",
     "output_type": "stream",
     "text": [
      "On branch master\n",
      "\n",
      "No commits yet\n",
      "\n",
      "Untracked files:\n",
      "  (use \"git add <file>...\" to include in what will be committed)\n",
      "\t Image quantification and clustering.ipynb\n",
      "\t.ipynb_checkpoints/\n",
      "\tCrawling_images2/\n",
      "\tcheckpoint\n",
      "\tcheckpoints.data-00000-of-00001\n",
      "\tcheckpoints.index\n",
      "\tface_align.ipynb\n",
      "\timage_modeling.ipynb\n",
      "\timages/\n",
      "\tman_train_encodings.txt\n",
      "\tmodel/\n",
      "\topenface/\n",
      "\tshape_predictor_68_face_landmarks.dat\n",
      "\tstill-sensor-325313-e544dd4f101f.json\n",
      "\ttemp/\n",
      "\ttrain_encodings.txt\n",
      "\ttrain_to_class.txt\n",
      "\tval_to_class.txt\n",
      "\tvalidate_encodings.txt\n",
      "\t�깦�뵆/\n",
      "\t�닔�젙蹂�/\n",
      "\t�뿬�옄_�씪踰⑤쭅_100/\n",
      "\t�썝蹂�/\n",
      "\n",
      "nothing added to commit but untracked files present (use \"git add\" to track)\n"
     ]
    }
   ],
   "source": [
    "!git status"
   ]
  },
  {
   "cell_type": "code",
   "execution_count": null,
   "id": "876f1d6d",
   "metadata": {},
   "outputs": [],
   "source": [
    "!git remote add origin "
   ]
  }
 ],
 "metadata": {
  "kernelspec": {
   "display_name": "Python 3",
   "language": "python",
   "name": "python3"
  },
  "language_info": {
   "codemirror_mode": {
    "name": "ipython",
    "version": 3
   },
   "file_extension": ".py",
   "mimetype": "text/x-python",
   "name": "python",
   "nbconvert_exporter": "python",
   "pygments_lexer": "ipython3",
   "version": "3.6.10"
  }
 },
 "nbformat": 4,
 "nbformat_minor": 5
}
