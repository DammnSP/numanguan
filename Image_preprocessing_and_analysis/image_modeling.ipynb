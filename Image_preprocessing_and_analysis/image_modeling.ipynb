{
 "cells": [
  {
   "cell_type": "markdown",
   "id": "744f49d6",
   "metadata": {},
   "source": [
    "# 1. 학습 테스트 데이터 로딩"
   ]
  },
  {
   "cell_type": "markdown",
   "id": "498238df",
   "metadata": {},
   "source": [
    "## 1.1 남자"
   ]
  },
  {
   "cell_type": "code",
   "execution_count": null,
   "id": "2b06d527",
   "metadata": {},
   "outputs": [],
   "source": [
    "import pandas as pd\n",
    "df_m = pd.read_csv('man_cluster.txt')"
   ]
  },
  {
   "cell_type": "code",
   "execution_count": null,
   "id": "6960526d",
   "metadata": {
    "scrolled": true
   },
   "outputs": [],
   "source": [
    "df_m.info"
   ]
  },
  {
   "cell_type": "code",
   "execution_count": null,
   "id": "5d3829dc",
   "metadata": {},
   "outputs": [],
   "source": [
    "df_m"
   ]
  },
  {
   "cell_type": "code",
   "execution_count": null,
   "id": "8b4c7333",
   "metadata": {},
   "outputs": [],
   "source": [
    "# class_mode = categorical을 적용하기위한 작업\n",
    "df_m['class'] = df_m['class'].apply(lambda x :[x])"
   ]
  },
  {
   "cell_type": "code",
   "execution_count": null,
   "id": "abdbd7a8",
   "metadata": {},
   "outputs": [],
   "source": [
    "df_m.reset_index(drop=True,inplace=True)"
   ]
  },
  {
   "cell_type": "code",
   "execution_count": null,
   "id": "0f4d94ac",
   "metadata": {},
   "outputs": [],
   "source": [
    "df_m"
   ]
  },
  {
   "cell_type": "markdown",
   "id": "84dc32c8",
   "metadata": {},
   "source": [
    "## 1.2 여자"
   ]
  },
  {
   "cell_type": "code",
   "execution_count": null,
   "id": "87c63e03",
   "metadata": {},
   "outputs": [],
   "source": [
    "df_w = pd.read_csv('woman_cluster.txt')"
   ]
  },
  {
   "cell_type": "code",
   "execution_count": null,
   "id": "e96b5dba",
   "metadata": {},
   "outputs": [],
   "source": [
    "# class_mode = categorical을 적용하기위한 작업\n",
    "df_w['class'] = df_w['class'].apply(lambda x :[x])"
   ]
  },
  {
   "cell_type": "code",
   "execution_count": null,
   "id": "6f35eac4",
   "metadata": {},
   "outputs": [],
   "source": [
    "df_w.reset_index(drop=True,inplace=True)"
   ]
  },
  {
   "cell_type": "code",
   "execution_count": null,
   "id": "818b7e6a",
   "metadata": {},
   "outputs": [],
   "source": [
    "pd.set_option('max_rows', 50)"
   ]
  },
  {
   "cell_type": "code",
   "execution_count": null,
   "id": "5429962d",
   "metadata": {
    "scrolled": false
   },
   "outputs": [],
   "source": [
    "df_w"
   ]
  },
  {
   "cell_type": "markdown",
   "id": "d123aba7",
   "metadata": {},
   "source": [
    "# 2. 모델 생성"
   ]
  },
  {
   "cell_type": "code",
   "execution_count": null,
   "id": "da516eb7",
   "metadata": {},
   "outputs": [],
   "source": [
    "import matplotlib.pyplot as plt\n",
    "from keras import models\n",
    "from keras import layers\n",
    "\n",
    "model = models.Sequential()\n",
    "\n",
    "# hidden layer에 합성곱과 맥스 풀링 설정\n",
    "model.add(layers.Conv2D(128, (3, 3), activation='relu', input_shape=(128, 128, 3)))\n",
    "model.add(layers.MaxPooling2D(2, 2))\n",
    "model.add(layers.Conv2D(64, (3, 3), activation='relu'))\n",
    "model.add(layers.MaxPooling2D(2, 2))\n",
    "model.add(layers.Conv2D(32, (3, 3), activation='relu'))\n",
    "model.add(layers.MaxPooling2D(2, 2))\n",
    "\n",
    "\n",
    "# 1차원으로 변환\n",
    "model.add(layers.Flatten())\n",
    "\n",
    "# 입력 데이터에 50%의 노드를 무작위로 사용하지 않게 막는다.\n",
    "model.add(layers.Dropout(0.5))\n",
    "\n",
    "# 결과얻기\n",
    "# class를 6개로 정하였으므로 softmax 설정\n",
    "model.add(layers.Dense(512, activation='relu'))\n",
    "model.add(layers.Dense(6, activation='softmax'))"
   ]
  },
  {
   "cell_type": "code",
   "execution_count": null,
   "id": "b58fad68",
   "metadata": {},
   "outputs": [],
   "source": [
    "# from keras.models import Sequential\n",
    "# from keras_preprocessing.image import ImageDataGenerator\n",
    "# from keras.layers import Dense, Activation, Flatten, Dropout, BatchNormalization\n",
    "# from keras.layers import Conv2D, MaxPooling2D\n",
    "# from keras import regularizers, optimizers\n",
    "# import pandas as pd\n",
    "# import numpy as np"
   ]
  },
  {
   "cell_type": "code",
   "execution_count": null,
   "id": "57cac733",
   "metadata": {},
   "outputs": [],
   "source": [
    "# model = Sequential()\n",
    "# model.add(Conv2D(256, (3, 3), padding='same',\n",
    "#                  input_shape=(256,256,3)))\n",
    "# model.add(Activation('relu'))\n",
    "# model.add(Conv2D(128, (3, 3)))\n",
    "# model.add(Activation('relu'))\n",
    "# model.add(MaxPooling2D(pool_size=(2, 2)))\n",
    "# model.add(Dropout(0.25))\n",
    "# model.add(Conv2D(64, (3, 3), padding='same'))\n",
    "# model.add(Activation('relu'))\n",
    "# model.add(Conv2D(64, (3, 3)))\n",
    "# model.add(Activation('relu'))\n",
    "# model.add(MaxPooling2D(pool_size=(2, 2)))\n",
    "# model.add(Dropout(0.25))\n",
    "# model.add(Flatten())\n",
    "# model.add(Dense(512))\n",
    "# model.add(Activation('relu'))\n",
    "# model.add(Dropout(0.5))\n",
    "# model.add(Dense(6, activation='softmax'))"
   ]
  },
  {
   "cell_type": "markdown",
   "id": "5d778a8a",
   "metadata": {},
   "source": [
    "# 3. 모델 컴파일"
   ]
  },
  {
   "cell_type": "code",
   "execution_count": null,
   "id": "9433ac65",
   "metadata": {},
   "outputs": [],
   "source": [
    "import tensorflow as tf\n",
    "from keras import optimizers\n",
    "from keras import losses\n",
    "from keras import metrics"
   ]
  },
  {
   "cell_type": "code",
   "execution_count": null,
   "id": "bd291a09",
   "metadata": {},
   "outputs": [],
   "source": [
    "# #출력이 13개이므로 categorical_crossentropy 설정\n",
    "# model.compile(optimizer=tf.keras.optimizers.Adam(learning_rate=1e-6),\n",
    "#               loss='categorical_crossentropy',\n",
    "#               metrics=['acc'])"
   ]
  },
  {
   "cell_type": "code",
   "execution_count": null,
   "id": "e4be9cd4",
   "metadata": {},
   "outputs": [],
   "source": [
    "model.compile(optimizer=tf.keras.optimizers.Adam(lr=0.00001, decay=1e-6),loss=\"categorical_crossentropy\",metrics=[\"accuracy\"])"
   ]
  },
  {
   "cell_type": "markdown",
   "id": "d6988e53",
   "metadata": {},
   "source": [
    "# 4. 이미지 증식"
   ]
  },
  {
   "cell_type": "code",
   "execution_count": null,
   "id": "7f56ec32",
   "metadata": {},
   "outputs": [],
   "source": [
    "from keras.preprocessing.image import ImageDataGenerator\n",
    "\n",
    "train_datagen = ImageDataGenerator(rescale=1./255)\n",
    "test_datagen = ImageDataGenerator(rescale=1./255)"
   ]
  },
  {
   "cell_type": "markdown",
   "id": "e7a11b67",
   "metadata": {},
   "source": [
    "# 4.1.1 train,validation, test datagen 생성(남자)\n",
    ">  8:1:1의 비율"
   ]
  },
  {
   "cell_type": "code",
   "execution_count": null,
   "id": "2c844ec9",
   "metadata": {},
   "outputs": [],
   "source": [
    "from keras.preprocessing.image import ImageDataGenerator\n",
    "\n",
    "train_datagen = ImageDataGenerator(\n",
    "    rescale=1./255,\n",
    "    rotation_range=40,\n",
    "    shear_range = 0.2,\n",
    "    horizontal_flip=True,\n",
    "    fill_mode='constant'\n",
    ")\n",
    "\n",
    "# 검증 데이터는 증식을 사용하면 안됨\n",
    "# 모델의 과적합을 막기 위한 기술이므로 검증에서는 당연히 배제되어야 함.\n",
    "test_datagen = ImageDataGenerator(rescale=1./255)"
   ]
  },
  {
   "cell_type": "code",
   "execution_count": null,
   "id": "c1bd558b",
   "metadata": {},
   "outputs": [],
   "source": [
    "train_generator = train_datagen.flow_from_dataframe(\n",
    "    #이미지 경로\n",
    "    df_m[:6000],\n",
    "    x_col='imagepath',\n",
    "    y_col='class',\n",
    "    # 사용할 이미지 크기\n",
    "    target_size=(128,128),\n",
    "    # 배치 크기\n",
    "    batch_size = 2,\n",
    "    # 손실 데이터 연관\n",
    "    class_mode = 'categorical',\n",
    "#     classes = ['0','1','2','3','4','5','6','7','8','9','10','11','12']\n",
    ")"
   ]
  },
  {
   "cell_type": "code",
   "execution_count": null,
   "id": "2cb81b8d",
   "metadata": {},
   "outputs": [],
   "source": [
    "validation_generator = test_datagen.flow_from_dataframe(\n",
    "    #이미지 경로\n",
    "    df_m[6000:6795],\n",
    "    x_col='imagepath',\n",
    "    y_col= 'class',\n",
    "    # 사용할 이미지 크기\n",
    "    target_size=(128,128),\n",
    "    # 배치 크기\n",
    "    batch_size = 2,\n",
    "    # 손실 데이터 연관\n",
    "    class_mode = 'categorical',\n",
    "#     classes = ['0','1','2','3','4','5','6','7','8','9','10','11','12']\n",
    ")"
   ]
  },
  {
   "cell_type": "code",
   "execution_count": null,
   "id": "a865a7ce",
   "metadata": {},
   "outputs": [],
   "source": [
    "test_generator = test_datagen.flow_from_dataframe(\n",
    "    #이미지 경로\n",
    "    df_m[6795:],\n",
    "    x_col='imagepath',\n",
    "    y_col='class',\n",
    "    # 사용할 이미지 크기\n",
    "    target_size=(128,128),\n",
    "    # 배치 크기\n",
    "    batch_size = 2,\n",
    "    # 손실 데이터 연관\n",
    "    class_mode = None,\n",
    ")"
   ]
  },
  {
   "cell_type": "markdown",
   "id": "8c20e742",
   "metadata": {},
   "source": [
    "# 4.1.2 train,validation, test datagen 생성(여자)\n",
    ">  8:1:1의 비율"
   ]
  },
  {
   "cell_type": "code",
   "execution_count": null,
   "id": "860f0d70",
   "metadata": {},
   "outputs": [],
   "source": [
    "from keras.preprocessing.image import ImageDataGenerator\n",
    "\n",
    "train_datagen = ImageDataGenerator(\n",
    "    rescale=1./255,\n",
    "    rotation_range=40,\n",
    "    shear_range = 0.2,\n",
    "    horizontal_flip=True,\n",
    "    fill_mode='constant'\n",
    ")\n",
    "\n",
    "# 검증 데이터는 증식을 사용하면 안됨\n",
    "# 모델의 과적합을 막기 위한 기술이므로 검증에서는 당연히 배제되어야 함.\n",
    "test_datagen = ImageDataGenerator(rescale=1./255)"
   ]
  },
  {
   "cell_type": "code",
   "execution_count": null,
   "id": "ee36f27d",
   "metadata": {},
   "outputs": [],
   "source": [
    "train_generator = train_datagen.flow_from_dataframe(\n",
    "    #이미지 경로\n",
    "    df_w[:6000],\n",
    "    x_col='imagepath',\n",
    "    y_col='class',\n",
    "    # 사용할 이미지 크기\n",
    "    target_size=(128,128),\n",
    "    # 배치 크기\n",
    "    batch_size = 1,\n",
    "    # 손실 데이터 연관\n",
    "    class_mode = 'categorical',\n",
    "#     classes = ['0','1','2','3','4','5','6','7','8','9','10','11','12']\n",
    ")"
   ]
  },
  {
   "cell_type": "code",
   "execution_count": null,
   "id": "6dd072fc",
   "metadata": {},
   "outputs": [],
   "source": [
    "validation_generator = test_datagen.flow_from_dataframe(\n",
    "    #이미지 경로\n",
    "    df_w[6000:6850],\n",
    "    x_col='imagepath',\n",
    "    y_col= 'class',\n",
    "    # 사용할 이미지 크기\n",
    "    target_size=(128,128),\n",
    "    # 배치 크기\n",
    "    batch_size = 1,\n",
    "    # 손실 데이터 연관\n",
    "    class_mode = 'categorical',\n",
    "#     classes = ['0','1','2','3','4','5','6','7','8','9','10','11','12']\n",
    ")"
   ]
  },
  {
   "cell_type": "code",
   "execution_count": null,
   "id": "441460b2",
   "metadata": {},
   "outputs": [],
   "source": [
    "test_generator = test_datagen.flow_from_dataframe(\n",
    "    #이미지 경로\n",
    "    df_w[6850:],\n",
    "    x_col='imagepath',\n",
    "    y_col='class',\n",
    "    # 사용할 이미지 크기\n",
    "    target_size=(128,128),\n",
    "    # 배치 크기\n",
    "    batch_size = 1,\n",
    "    # 손실 데이터 연관\n",
    "    class_mode = None,\n",
    ")"
   ]
  },
  {
   "cell_type": "markdown",
   "id": "d482245a",
   "metadata": {},
   "source": [
    "# 5. 모델 학습"
   ]
  },
  {
   "cell_type": "code",
   "execution_count": null,
   "id": "5fcdd4e4",
   "metadata": {},
   "outputs": [],
   "source": [
    "import tensorflow as tf\n",
    "\n",
    "device_name = tf.test.gpu_device_name()\n",
    "\n",
    "if device_name != '/device:GPU:0':\n",
    "    raise SystemError('GPU device not found')\n",
    "\n",
    "print('Found GPU at : ', device_name)"
   ]
  },
  {
   "cell_type": "code",
   "execution_count": null,
   "id": "173b8cea",
   "metadata": {},
   "outputs": [],
   "source": [
    "STEP_SIZE_TRAIN=train_generator.n//train_generator.batch_size\n",
    "STEP_SIZE_VALID=validation_generator.n//validation_generator.batch_size\n",
    "STEP_SIZE_TEST=test_generator.n//test_generator.batch_size"
   ]
  },
  {
   "cell_type": "code",
   "execution_count": null,
   "id": "9945b9df",
   "metadata": {},
   "outputs": [],
   "source": [
    "import tensorboard\n",
    "from datetime import datetime\n",
    "\n",
    "log_dir=\"logs\\\\fit\\\\\" + datetime.now().strftime(\"%Y%m%d-%H%M%S\")\n",
    "tensorboard_callback = tf.keras.callbacks.TensorBoard(log_dir=log_dir, histogram_freq=1)"
   ]
  },
  {
   "cell_type": "code",
   "execution_count": null,
   "id": "c17c01f3",
   "metadata": {
    "scrolled": true
   },
   "outputs": [],
   "source": [
    "with tf.device('/device:GPU:0'):\n",
    "    history = model.fit_generator(generator=train_generator,\n",
    "                        steps_per_epoch=STEP_SIZE_TRAIN,\n",
    "                        validation_data=validation_generator,\n",
    "                        validation_steps=STEP_SIZE_VALID,\n",
    "                        epochs=10\n",
    "    )"
   ]
  },
  {
   "cell_type": "markdown",
   "id": "da75afce",
   "metadata": {},
   "source": [
    "# 6. 모델 시각화"
   ]
  },
  {
   "cell_type": "code",
   "execution_count": null,
   "id": "3a5cb9a1",
   "metadata": {
    "scrolled": true
   },
   "outputs": [],
   "source": [
    "import matplotlib.pyplot as plt\n",
    "\n",
    "acc = history.history['accuracy']\n",
    "val_acc = history.history['val_accuracy']\n",
    "\n",
    "epochs = range(len(acc))\n",
    "\n",
    "plt.plot(epochs, acc , 'b', label = 'Training acc',color='orange')\n",
    "plt.plot(epochs, val_acc, 'b',label='Validation acc',color='blue')\n",
    "plt.legend()\n",
    "\n",
    "plt.show()"
   ]
  },
  {
   "cell_type": "code",
   "execution_count": null,
   "id": "c6ac1035",
   "metadata": {},
   "outputs": [],
   "source": [
    "import matplotlib.pyplot as plt\n",
    "\n",
    "loss = history.history['loss']\n",
    "val_loss = history.history['val_loss']\n",
    "\n",
    "epochs = range(len(loss))\n",
    "\n",
    "plt.plot(epochs, loss , 'b', label = 'Training loss',color='orange')\n",
    "plt.plot(epochs, val_loss, 'b',label='Validation loss',color='blue')\n",
    "plt.legend()\n",
    "\n",
    "plt.show()"
   ]
  },
  {
   "cell_type": "code",
   "execution_count": null,
   "id": "3f59f44a",
   "metadata": {},
   "outputs": [],
   "source": [
    "model."
   ]
  },
  {
   "cell_type": "code",
   "execution_count": null,
   "id": "81f22f7a",
   "metadata": {},
   "outputs": [],
   "source": [
    "from tensorflow.keras.models import load_model\n",
    "model.save(\"model_class6_man.h5\")"
   ]
  },
  {
   "cell_type": "code",
   "execution_count": null,
   "id": "d97bb0e8",
   "metadata": {},
   "outputs": [],
   "source": [
    "from tensorflow.keras.models import load_model\n",
    "model.save(\"model_class6_woman.h5\")"
   ]
  },
  {
   "cell_type": "code",
   "execution_count": null,
   "id": "87009228",
   "metadata": {},
   "outputs": [],
   "source": [
    "from tensorflow.keras.models import load_model\n",
    "model=load_model(\"model_center_class9.h5\")"
   ]
  },
  {
   "cell_type": "code",
   "execution_count": null,
   "id": "598e6c2c",
   "metadata": {},
   "outputs": [],
   "source": [
    "model.save_weights('checkpoints')"
   ]
  },
  {
   "cell_type": "code",
   "execution_count": null,
   "id": "375c37ae",
   "metadata": {},
   "outputs": [],
   "source": [
    "from tensorflow.keras.models import load_model\n",
    "model.save(\"model_center_class9.h5\")"
   ]
  },
  {
   "cell_type": "code",
   "execution_count": null,
   "id": "f52291f2",
   "metadata": {},
   "outputs": [],
   "source": [
    "from tensorflow.keras.models import load_model\n",
    "model=load_model(\"model_class6_man.h5\")"
   ]
  },
  {
   "cell_type": "code",
   "execution_count": null,
   "id": "8c3e3000",
   "metadata": {},
   "outputs": [],
   "source": [
    "import numpy as np\n",
    "from tensorflow.keras.models import load_model\n",
    "\n",
    "history_path = './model/center_class6_extra_history.npy'\n",
    "np.save(history_path, history.history)"
   ]
  },
  {
   "cell_type": "code",
   "execution_count": null,
   "id": "9fa0a4c5",
   "metadata": {},
   "outputs": [],
   "source": [
    "test_df = pd.DataFrame(columns=['imagepath'])\n",
    "test_df.loc[0,'imagepath'] = 'C:\\\\Users\\\\성수현\\\\Desktop\\\\590.jpg'\n",
    "test_df"
   ]
  },
  {
   "cell_type": "code",
   "execution_count": null,
   "id": "51d79362",
   "metadata": {},
   "outputs": [],
   "source": [
    "test_generator = test_datagen.flow_from_dataframe(\n",
    "    #이미지 경로\n",
    "    test_df,\n",
    "    x_col='imagepath',\n",
    "    # 사용할 이미지 크기\n",
    "    target_size=(128,128),\n",
    "    # 배치 크기\n",
    "    batch_size = 1,\n",
    "    # 손실 데이터 연관\n",
    "    class_mode = None,\n",
    ")"
   ]
  },
  {
   "cell_type": "code",
   "execution_count": null,
   "id": "cde90985",
   "metadata": {},
   "outputs": [],
   "source": [
    "test_generator.reset()\n",
    "pred=model.predict_generator(test_generator,\n",
    "steps=1,verbose=1)"
   ]
  },
  {
   "cell_type": "code",
   "execution_count": null,
   "id": "a70a9065",
   "metadata": {},
   "outputs": [],
   "source": [
    "def hangulFilePathImageRead(filePath): \n",
    "    stream = open(filePath , \"rb\") \n",
    "    bytes = bytearray(stream.read()) \n",
    "    numpyArray = np.asarray(bytes, dtype=np.uint8) \n",
    "    return cv2.imdecode(numpyArray , cv2.IMREAD_COLOR) "
   ]
  },
  {
   "cell_type": "code",
   "execution_count": null,
   "id": "f6a5f511",
   "metadata": {},
   "outputs": [],
   "source": [
    "import cv2"
   ]
  },
  {
   "cell_type": "code",
   "execution_count": null,
   "id": "4d5a5f5b",
   "metadata": {},
   "outputs": [],
   "source": [
    "img=hangulFilePathImageRead('C:\\\\Users\\\\성수현\\\\Desktop\\\\590.jpg')\n",
    "\n",
    "print(pred[0].argmax())\n",
    "plt.imshow(img)"
   ]
  }
 ],
 "metadata": {
  "kernelspec": {
   "display_name": "Python 3",
   "language": "python",
   "name": "python3"
  },
  "language_info": {
   "codemirror_mode": {
    "name": "ipython",
    "version": 3
   },
   "file_extension": ".py",
   "mimetype": "text/x-python",
   "name": "python",
   "nbconvert_exporter": "python",
   "pygments_lexer": "ipython3",
   "version": "3.6.10"
  }
 },
 "nbformat": 4,
 "nbformat_minor": 5
}
